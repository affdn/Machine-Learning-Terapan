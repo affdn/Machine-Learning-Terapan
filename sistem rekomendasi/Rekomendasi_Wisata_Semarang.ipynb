{
  "nbformat": 4,
  "nbformat_minor": 0,
  "metadata": {
    "colab": {
      "provenance": []
    },
    "kernelspec": {
      "name": "python3",
      "display_name": "Python 3"
    },
    "language_info": {
      "name": "python"
    }
  },
  "cells": [
    {
      "cell_type": "markdown",
      "source": [
        "**MENGIMPOR LIBRARY YANG DIBUTUHKAN**"
      ],
      "metadata": {
        "id": "3_yWcEzBqxGj"
      }
    },
    {
      "cell_type": "code",
      "source": [
        "# Untuk pengolahan data\n",
        "import pandas as pd\n",
        "import numpy as np\n",
        "from zipfile import ZipFile\n",
        "from pathlib import Path\n",
        "\n",
        "# Untuk visualisasi data\n",
        "import seaborn as sns\n",
        "import matplotlib.pyplot as plt\n",
        "\n",
        "%matplotlib inline\n",
        "sns.set_palette('Set1')\n",
        "sns.set()\n",
        "\n",
        "# Untuk pemodelan\n",
        "import tensorflow as tf\n",
        "from tensorflow import keras\n",
        "from tensorflow.keras import layers\n",
        "\n",
        "# Untuk menghilangkan warnings saat plotting seaborn\n",
        "import warnings\n",
        "warnings.filterwarnings('ignore')\n",
        "\n",
        "# Untuk mengupload file\n",
        "import os"
      ],
      "metadata": {
        "id": "t1RVy1J785b7"
      },
      "execution_count": null,
      "outputs": []
    },
    {
      "cell_type": "code",
      "execution_count": null,
      "metadata": {
        "id": "O2av-GLRl_WS"
      },
      "outputs": [],
      "source": [
        "# install kaggle package\n",
        "!pip install -q kaggle "
      ]
    },
    {
      "cell_type": "code",
      "source": [
        "# upload kaggle.json\n",
        "from google.colab import files\n",
        "files.upload()"
      ],
      "metadata": {
        "colab": {
          "base_uri": "https://localhost:8080/",
          "height": 90
        },
        "id": "gi9_Cp26l__U",
        "outputId": "bd73a8c1-8c8c-4287-8e2d-2925cfec05f3"
      },
      "execution_count": null,
      "outputs": [
        {
          "output_type": "display_data",
          "data": {
            "text/plain": [
              "<IPython.core.display.HTML object>"
            ],
            "text/html": [
              "\n",
              "     <input type=\"file\" id=\"files-118834ca-c964-4c52-82ed-1d8800dbf791\" name=\"files[]\" multiple disabled\n",
              "        style=\"border:none\" />\n",
              "     <output id=\"result-118834ca-c964-4c52-82ed-1d8800dbf791\">\n",
              "      Upload widget is only available when the cell has been executed in the\n",
              "      current browser session. Please rerun this cell to enable.\n",
              "      </output>\n",
              "      <script>// Copyright 2017 Google LLC\n",
              "//\n",
              "// Licensed under the Apache License, Version 2.0 (the \"License\");\n",
              "// you may not use this file except in compliance with the License.\n",
              "// You may obtain a copy of the License at\n",
              "//\n",
              "//      http://www.apache.org/licenses/LICENSE-2.0\n",
              "//\n",
              "// Unless required by applicable law or agreed to in writing, software\n",
              "// distributed under the License is distributed on an \"AS IS\" BASIS,\n",
              "// WITHOUT WARRANTIES OR CONDITIONS OF ANY KIND, either express or implied.\n",
              "// See the License for the specific language governing permissions and\n",
              "// limitations under the License.\n",
              "\n",
              "/**\n",
              " * @fileoverview Helpers for google.colab Python module.\n",
              " */\n",
              "(function(scope) {\n",
              "function span(text, styleAttributes = {}) {\n",
              "  const element = document.createElement('span');\n",
              "  element.textContent = text;\n",
              "  for (const key of Object.keys(styleAttributes)) {\n",
              "    element.style[key] = styleAttributes[key];\n",
              "  }\n",
              "  return element;\n",
              "}\n",
              "\n",
              "// Max number of bytes which will be uploaded at a time.\n",
              "const MAX_PAYLOAD_SIZE = 100 * 1024;\n",
              "\n",
              "function _uploadFiles(inputId, outputId) {\n",
              "  const steps = uploadFilesStep(inputId, outputId);\n",
              "  const outputElement = document.getElementById(outputId);\n",
              "  // Cache steps on the outputElement to make it available for the next call\n",
              "  // to uploadFilesContinue from Python.\n",
              "  outputElement.steps = steps;\n",
              "\n",
              "  return _uploadFilesContinue(outputId);\n",
              "}\n",
              "\n",
              "// This is roughly an async generator (not supported in the browser yet),\n",
              "// where there are multiple asynchronous steps and the Python side is going\n",
              "// to poll for completion of each step.\n",
              "// This uses a Promise to block the python side on completion of each step,\n",
              "// then passes the result of the previous step as the input to the next step.\n",
              "function _uploadFilesContinue(outputId) {\n",
              "  const outputElement = document.getElementById(outputId);\n",
              "  const steps = outputElement.steps;\n",
              "\n",
              "  const next = steps.next(outputElement.lastPromiseValue);\n",
              "  return Promise.resolve(next.value.promise).then((value) => {\n",
              "    // Cache the last promise value to make it available to the next\n",
              "    // step of the generator.\n",
              "    outputElement.lastPromiseValue = value;\n",
              "    return next.value.response;\n",
              "  });\n",
              "}\n",
              "\n",
              "/**\n",
              " * Generator function which is called between each async step of the upload\n",
              " * process.\n",
              " * @param {string} inputId Element ID of the input file picker element.\n",
              " * @param {string} outputId Element ID of the output display.\n",
              " * @return {!Iterable<!Object>} Iterable of next steps.\n",
              " */\n",
              "function* uploadFilesStep(inputId, outputId) {\n",
              "  const inputElement = document.getElementById(inputId);\n",
              "  inputElement.disabled = false;\n",
              "\n",
              "  const outputElement = document.getElementById(outputId);\n",
              "  outputElement.innerHTML = '';\n",
              "\n",
              "  const pickedPromise = new Promise((resolve) => {\n",
              "    inputElement.addEventListener('change', (e) => {\n",
              "      resolve(e.target.files);\n",
              "    });\n",
              "  });\n",
              "\n",
              "  const cancel = document.createElement('button');\n",
              "  inputElement.parentElement.appendChild(cancel);\n",
              "  cancel.textContent = 'Cancel upload';\n",
              "  const cancelPromise = new Promise((resolve) => {\n",
              "    cancel.onclick = () => {\n",
              "      resolve(null);\n",
              "    };\n",
              "  });\n",
              "\n",
              "  // Wait for the user to pick the files.\n",
              "  const files = yield {\n",
              "    promise: Promise.race([pickedPromise, cancelPromise]),\n",
              "    response: {\n",
              "      action: 'starting',\n",
              "    }\n",
              "  };\n",
              "\n",
              "  cancel.remove();\n",
              "\n",
              "  // Disable the input element since further picks are not allowed.\n",
              "  inputElement.disabled = true;\n",
              "\n",
              "  if (!files) {\n",
              "    return {\n",
              "      response: {\n",
              "        action: 'complete',\n",
              "      }\n",
              "    };\n",
              "  }\n",
              "\n",
              "  for (const file of files) {\n",
              "    const li = document.createElement('li');\n",
              "    li.append(span(file.name, {fontWeight: 'bold'}));\n",
              "    li.append(span(\n",
              "        `(${file.type || 'n/a'}) - ${file.size} bytes, ` +\n",
              "        `last modified: ${\n",
              "            file.lastModifiedDate ? file.lastModifiedDate.toLocaleDateString() :\n",
              "                                    'n/a'} - `));\n",
              "    const percent = span('0% done');\n",
              "    li.appendChild(percent);\n",
              "\n",
              "    outputElement.appendChild(li);\n",
              "\n",
              "    const fileDataPromise = new Promise((resolve) => {\n",
              "      const reader = new FileReader();\n",
              "      reader.onload = (e) => {\n",
              "        resolve(e.target.result);\n",
              "      };\n",
              "      reader.readAsArrayBuffer(file);\n",
              "    });\n",
              "    // Wait for the data to be ready.\n",
              "    let fileData = yield {\n",
              "      promise: fileDataPromise,\n",
              "      response: {\n",
              "        action: 'continue',\n",
              "      }\n",
              "    };\n",
              "\n",
              "    // Use a chunked sending to avoid message size limits. See b/62115660.\n",
              "    let position = 0;\n",
              "    do {\n",
              "      const length = Math.min(fileData.byteLength - position, MAX_PAYLOAD_SIZE);\n",
              "      const chunk = new Uint8Array(fileData, position, length);\n",
              "      position += length;\n",
              "\n",
              "      const base64 = btoa(String.fromCharCode.apply(null, chunk));\n",
              "      yield {\n",
              "        response: {\n",
              "          action: 'append',\n",
              "          file: file.name,\n",
              "          data: base64,\n",
              "        },\n",
              "      };\n",
              "\n",
              "      let percentDone = fileData.byteLength === 0 ?\n",
              "          100 :\n",
              "          Math.round((position / fileData.byteLength) * 100);\n",
              "      percent.textContent = `${percentDone}% done`;\n",
              "\n",
              "    } while (position < fileData.byteLength);\n",
              "  }\n",
              "\n",
              "  // All done.\n",
              "  yield {\n",
              "    response: {\n",
              "      action: 'complete',\n",
              "    }\n",
              "  };\n",
              "}\n",
              "\n",
              "scope.google = scope.google || {};\n",
              "scope.google.colab = scope.google.colab || {};\n",
              "scope.google.colab._files = {\n",
              "  _uploadFiles,\n",
              "  _uploadFilesContinue,\n",
              "};\n",
              "})(self);\n",
              "</script> "
            ]
          },
          "metadata": {}
        },
        {
          "output_type": "stream",
          "name": "stdout",
          "text": [
            "Saving kaggle.json to kaggle.json\n"
          ]
        },
        {
          "output_type": "execute_result",
          "data": {
            "text/plain": [
              "{'kaggle.json': b'{\"username\":\"afifxxiv\",\"key\":\"8a5bd89b9d50a3d7cf0c65d6043bfd5a\"}'}"
            ]
          },
          "metadata": {},
          "execution_count": 3
        }
      ]
    },
    {
      "cell_type": "code",
      "source": [
        "!mkdir -p ~/.kaggle\n",
        "!cp kaggle.json ~/.kaggle/\n",
        "!chmod 600 ~/.kaggle/kaggle.json\n",
        "!ls ~/.kaggle"
      ],
      "metadata": {
        "colab": {
          "base_uri": "https://localhost:8080/"
        },
        "id": "YKBWtV6QmFuO",
        "outputId": "8722a556-73a2-4051-999a-939629d0fb44"
      },
      "execution_count": null,
      "outputs": [
        {
          "output_type": "stream",
          "name": "stdout",
          "text": [
            "kaggle.json\n"
          ]
        }
      ]
    },
    {
      "cell_type": "markdown",
      "source": [
        "**MENYIAPKAN DATASET**"
      ],
      "metadata": {
        "id": "Xog9AQPisHyc"
      }
    },
    {
      "cell_type": "code",
      "source": [
        "# Download dataset\n",
        "!kaggle datasets download -d aprabowo/indonesia-tourism-destination"
      ],
      "metadata": {
        "colab": {
          "base_uri": "https://localhost:8080/"
        },
        "id": "deR4T6OOmJ72",
        "outputId": "1bdacec1-e0c3-4be7-fff7-5ac7dd27b0b7"
      },
      "execution_count": null,
      "outputs": [
        {
          "output_type": "stream",
          "name": "stdout",
          "text": [
            "Downloading indonesia-tourism-destination.zip to /content\n",
            "\r  0% 0.00/158k [00:00<?, ?B/s]\n",
            "\r100% 158k/158k [00:00<00:00, 61.1MB/s]\n"
          ]
        }
      ]
    },
    {
      "cell_type": "markdown",
      "source": [
        "**DATA UNDERSTANDING**"
      ],
      "metadata": {
        "id": "zyBwP2UXstrW"
      }
    },
    {
      "cell_type": "code",
      "source": [
        "# unzip\n",
        "!mkdir data\n",
        "!unzip -qq indonesia-tourism-destination.zip -d data\n",
        "!ls data"
      ],
      "metadata": {
        "colab": {
          "base_uri": "https://localhost:8080/"
        },
        "id": "d44ZP2womMZr",
        "outputId": "36ef2dd8-6d52-4ef4-af3c-575f178b0696"
      },
      "execution_count": null,
      "outputs": [
        {
          "output_type": "stream",
          "name": "stdout",
          "text": [
            "package_tourism.csv  tourism_rating.csv  tourism_with_id.csv  user.csv\n"
          ]
        }
      ]
    },
    {
      "cell_type": "markdown",
      "source": [
        "Menyimpan dataset ke dalam variabel"
      ],
      "metadata": {
        "id": "JeRmPMUCEGBA"
      }
    },
    {
      "cell_type": "code",
      "source": [
        "rating = pd.read_csv('data/tourism_rating.csv')\n",
        "place = pd.read_csv('data/tourism_with_id.csv')\n",
        "user = pd.read_csv('data/user.csv')"
      ],
      "metadata": {
        "id": "d4S_JOgdn_e4"
      },
      "execution_count": null,
      "outputs": []
    },
    {
      "cell_type": "markdown",
      "source": [
        "Melihat data place"
      ],
      "metadata": {
        "id": "Oy2hOWYGELjE"
      }
    },
    {
      "cell_type": "code",
      "source": [
        "place.head(5)"
      ],
      "metadata": {
        "colab": {
          "base_uri": "https://localhost:8080/",
          "height": 635
        },
        "id": "wTJZw9NUouFU",
        "outputId": "57d64365-10b7-4aba-e2d0-728863a5d89f"
      },
      "execution_count": null,
      "outputs": [
        {
          "output_type": "execute_result",
          "data": {
            "text/plain": [
              "   Place_Id                         Place_Name  \\\n",
              "0         1                   Monumen Nasional   \n",
              "1         2                           Kota Tua   \n",
              "2         3                      Dunia Fantasi   \n",
              "3         4  Taman Mini Indonesia Indah (TMII)   \n",
              "4         5           Atlantis Water Adventure   \n",
              "\n",
              "                                         Description       Category     City  \\\n",
              "0  Monumen Nasional atau yang populer disingkat d...         Budaya  Jakarta   \n",
              "1  Kota tua di Jakarta, yang juga bernama Kota Tu...         Budaya  Jakarta   \n",
              "2  Dunia Fantasi atau disebut juga Dufan adalah t...  Taman Hiburan  Jakarta   \n",
              "3  Taman Mini Indonesia Indah merupakan suatu kaw...  Taman Hiburan  Jakarta   \n",
              "4  Atlantis Water Adventure atau dikenal dengan A...  Taman Hiburan  Jakarta   \n",
              "\n",
              "    Price  Rating  Time_Minutes  \\\n",
              "0   20000     4.6          15.0   \n",
              "1       0     4.6          90.0   \n",
              "2  270000     4.6         360.0   \n",
              "3   10000     4.5           NaN   \n",
              "4   94000     4.5          60.0   \n",
              "\n",
              "                                        Coordinate       Lat        Long  \\\n",
              "0          {'lat': -6.1753924, 'lng': 106.8271528} -6.175392  106.827153   \n",
              "1  {'lat': -6.137644799999999, 'lng': 106.8171245} -6.137645  106.817125   \n",
              "2  {'lat': -6.125312399999999, 'lng': 106.8335377} -6.125312  106.833538   \n",
              "3  {'lat': -6.302445899999999, 'lng': 106.8951559} -6.302446  106.895156   \n",
              "4             {'lat': -6.12419, 'lng': 106.839134} -6.124190  106.839134   \n",
              "\n",
              "   Unnamed: 11  Unnamed: 12  \n",
              "0          NaN            1  \n",
              "1          NaN            2  \n",
              "2          NaN            3  \n",
              "3          NaN            4  \n",
              "4          NaN            5  "
            ],
            "text/html": [
              "\n",
              "  <div id=\"df-f1eceac0-9bda-4ac7-b019-b75762b2cfd3\">\n",
              "    <div class=\"colab-df-container\">\n",
              "      <div>\n",
              "<style scoped>\n",
              "    .dataframe tbody tr th:only-of-type {\n",
              "        vertical-align: middle;\n",
              "    }\n",
              "\n",
              "    .dataframe tbody tr th {\n",
              "        vertical-align: top;\n",
              "    }\n",
              "\n",
              "    .dataframe thead th {\n",
              "        text-align: right;\n",
              "    }\n",
              "</style>\n",
              "<table border=\"1\" class=\"dataframe\">\n",
              "  <thead>\n",
              "    <tr style=\"text-align: right;\">\n",
              "      <th></th>\n",
              "      <th>Place_Id</th>\n",
              "      <th>Place_Name</th>\n",
              "      <th>Description</th>\n",
              "      <th>Category</th>\n",
              "      <th>City</th>\n",
              "      <th>Price</th>\n",
              "      <th>Rating</th>\n",
              "      <th>Time_Minutes</th>\n",
              "      <th>Coordinate</th>\n",
              "      <th>Lat</th>\n",
              "      <th>Long</th>\n",
              "      <th>Unnamed: 11</th>\n",
              "      <th>Unnamed: 12</th>\n",
              "    </tr>\n",
              "  </thead>\n",
              "  <tbody>\n",
              "    <tr>\n",
              "      <th>0</th>\n",
              "      <td>1</td>\n",
              "      <td>Monumen Nasional</td>\n",
              "      <td>Monumen Nasional atau yang populer disingkat d...</td>\n",
              "      <td>Budaya</td>\n",
              "      <td>Jakarta</td>\n",
              "      <td>20000</td>\n",
              "      <td>4.6</td>\n",
              "      <td>15.0</td>\n",
              "      <td>{'lat': -6.1753924, 'lng': 106.8271528}</td>\n",
              "      <td>-6.175392</td>\n",
              "      <td>106.827153</td>\n",
              "      <td>NaN</td>\n",
              "      <td>1</td>\n",
              "    </tr>\n",
              "    <tr>\n",
              "      <th>1</th>\n",
              "      <td>2</td>\n",
              "      <td>Kota Tua</td>\n",
              "      <td>Kota tua di Jakarta, yang juga bernama Kota Tu...</td>\n",
              "      <td>Budaya</td>\n",
              "      <td>Jakarta</td>\n",
              "      <td>0</td>\n",
              "      <td>4.6</td>\n",
              "      <td>90.0</td>\n",
              "      <td>{'lat': -6.137644799999999, 'lng': 106.8171245}</td>\n",
              "      <td>-6.137645</td>\n",
              "      <td>106.817125</td>\n",
              "      <td>NaN</td>\n",
              "      <td>2</td>\n",
              "    </tr>\n",
              "    <tr>\n",
              "      <th>2</th>\n",
              "      <td>3</td>\n",
              "      <td>Dunia Fantasi</td>\n",
              "      <td>Dunia Fantasi atau disebut juga Dufan adalah t...</td>\n",
              "      <td>Taman Hiburan</td>\n",
              "      <td>Jakarta</td>\n",
              "      <td>270000</td>\n",
              "      <td>4.6</td>\n",
              "      <td>360.0</td>\n",
              "      <td>{'lat': -6.125312399999999, 'lng': 106.8335377}</td>\n",
              "      <td>-6.125312</td>\n",
              "      <td>106.833538</td>\n",
              "      <td>NaN</td>\n",
              "      <td>3</td>\n",
              "    </tr>\n",
              "    <tr>\n",
              "      <th>3</th>\n",
              "      <td>4</td>\n",
              "      <td>Taman Mini Indonesia Indah (TMII)</td>\n",
              "      <td>Taman Mini Indonesia Indah merupakan suatu kaw...</td>\n",
              "      <td>Taman Hiburan</td>\n",
              "      <td>Jakarta</td>\n",
              "      <td>10000</td>\n",
              "      <td>4.5</td>\n",
              "      <td>NaN</td>\n",
              "      <td>{'lat': -6.302445899999999, 'lng': 106.8951559}</td>\n",
              "      <td>-6.302446</td>\n",
              "      <td>106.895156</td>\n",
              "      <td>NaN</td>\n",
              "      <td>4</td>\n",
              "    </tr>\n",
              "    <tr>\n",
              "      <th>4</th>\n",
              "      <td>5</td>\n",
              "      <td>Atlantis Water Adventure</td>\n",
              "      <td>Atlantis Water Adventure atau dikenal dengan A...</td>\n",
              "      <td>Taman Hiburan</td>\n",
              "      <td>Jakarta</td>\n",
              "      <td>94000</td>\n",
              "      <td>4.5</td>\n",
              "      <td>60.0</td>\n",
              "      <td>{'lat': -6.12419, 'lng': 106.839134}</td>\n",
              "      <td>-6.124190</td>\n",
              "      <td>106.839134</td>\n",
              "      <td>NaN</td>\n",
              "      <td>5</td>\n",
              "    </tr>\n",
              "  </tbody>\n",
              "</table>\n",
              "</div>\n",
              "      <button class=\"colab-df-convert\" onclick=\"convertToInteractive('df-f1eceac0-9bda-4ac7-b019-b75762b2cfd3')\"\n",
              "              title=\"Convert this dataframe to an interactive table.\"\n",
              "              style=\"display:none;\">\n",
              "        \n",
              "  <svg xmlns=\"http://www.w3.org/2000/svg\" height=\"24px\"viewBox=\"0 0 24 24\"\n",
              "       width=\"24px\">\n",
              "    <path d=\"M0 0h24v24H0V0z\" fill=\"none\"/>\n",
              "    <path d=\"M18.56 5.44l.94 2.06.94-2.06 2.06-.94-2.06-.94-.94-2.06-.94 2.06-2.06.94zm-11 1L8.5 8.5l.94-2.06 2.06-.94-2.06-.94L8.5 2.5l-.94 2.06-2.06.94zm10 10l.94 2.06.94-2.06 2.06-.94-2.06-.94-.94-2.06-.94 2.06-2.06.94z\"/><path d=\"M17.41 7.96l-1.37-1.37c-.4-.4-.92-.59-1.43-.59-.52 0-1.04.2-1.43.59L10.3 9.45l-7.72 7.72c-.78.78-.78 2.05 0 2.83L4 21.41c.39.39.9.59 1.41.59.51 0 1.02-.2 1.41-.59l7.78-7.78 2.81-2.81c.8-.78.8-2.07 0-2.86zM5.41 20L4 18.59l7.72-7.72 1.47 1.35L5.41 20z\"/>\n",
              "  </svg>\n",
              "      </button>\n",
              "      \n",
              "  <style>\n",
              "    .colab-df-container {\n",
              "      display:flex;\n",
              "      flex-wrap:wrap;\n",
              "      gap: 12px;\n",
              "    }\n",
              "\n",
              "    .colab-df-convert {\n",
              "      background-color: #E8F0FE;\n",
              "      border: none;\n",
              "      border-radius: 50%;\n",
              "      cursor: pointer;\n",
              "      display: none;\n",
              "      fill: #1967D2;\n",
              "      height: 32px;\n",
              "      padding: 0 0 0 0;\n",
              "      width: 32px;\n",
              "    }\n",
              "\n",
              "    .colab-df-convert:hover {\n",
              "      background-color: #E2EBFA;\n",
              "      box-shadow: 0px 1px 2px rgba(60, 64, 67, 0.3), 0px 1px 3px 1px rgba(60, 64, 67, 0.15);\n",
              "      fill: #174EA6;\n",
              "    }\n",
              "\n",
              "    [theme=dark] .colab-df-convert {\n",
              "      background-color: #3B4455;\n",
              "      fill: #D2E3FC;\n",
              "    }\n",
              "\n",
              "    [theme=dark] .colab-df-convert:hover {\n",
              "      background-color: #434B5C;\n",
              "      box-shadow: 0px 1px 3px 1px rgba(0, 0, 0, 0.15);\n",
              "      filter: drop-shadow(0px 1px 2px rgba(0, 0, 0, 0.3));\n",
              "      fill: #FFFFFF;\n",
              "    }\n",
              "  </style>\n",
              "\n",
              "      <script>\n",
              "        const buttonEl =\n",
              "          document.querySelector('#df-f1eceac0-9bda-4ac7-b019-b75762b2cfd3 button.colab-df-convert');\n",
              "        buttonEl.style.display =\n",
              "          google.colab.kernel.accessAllowed ? 'block' : 'none';\n",
              "\n",
              "        async function convertToInteractive(key) {\n",
              "          const element = document.querySelector('#df-f1eceac0-9bda-4ac7-b019-b75762b2cfd3');\n",
              "          const dataTable =\n",
              "            await google.colab.kernel.invokeFunction('convertToInteractive',\n",
              "                                                     [key], {});\n",
              "          if (!dataTable) return;\n",
              "\n",
              "          const docLinkHtml = 'Like what you see? Visit the ' +\n",
              "            '<a target=\"_blank\" href=https://colab.research.google.com/notebooks/data_table.ipynb>data table notebook</a>'\n",
              "            + ' to learn more about interactive tables.';\n",
              "          element.innerHTML = '';\n",
              "          dataTable['output_type'] = 'display_data';\n",
              "          await google.colab.output.renderOutput(dataTable, element);\n",
              "          const docLink = document.createElement('div');\n",
              "          docLink.innerHTML = docLinkHtml;\n",
              "          element.appendChild(docLink);\n",
              "        }\n",
              "      </script>\n",
              "    </div>\n",
              "  </div>\n",
              "  "
            ]
          },
          "metadata": {},
          "execution_count": 8
        }
      ]
    },
    {
      "cell_type": "markdown",
      "source": [
        "Menghapus kolom yang tidak diperlukan"
      ],
      "metadata": {
        "id": "r0ugphtIER-S"
      }
    },
    {
      "cell_type": "code",
      "source": [
        "place = place.drop(['Unnamed: 11','Unnamed: 12','Time_Minutes'],axis=1)\n",
        "place.head(5)"
      ],
      "metadata": {
        "id": "blKsBc6dpLyx",
        "colab": {
          "base_uri": "https://localhost:8080/",
          "height": 617
        },
        "outputId": "5f596b29-3886-447b-b21c-dcb0e2630ef9"
      },
      "execution_count": null,
      "outputs": [
        {
          "output_type": "execute_result",
          "data": {
            "text/plain": [
              "   Place_Id                         Place_Name  \\\n",
              "0         1                   Monumen Nasional   \n",
              "1         2                           Kota Tua   \n",
              "2         3                      Dunia Fantasi   \n",
              "3         4  Taman Mini Indonesia Indah (TMII)   \n",
              "4         5           Atlantis Water Adventure   \n",
              "\n",
              "                                         Description       Category     City  \\\n",
              "0  Monumen Nasional atau yang populer disingkat d...         Budaya  Jakarta   \n",
              "1  Kota tua di Jakarta, yang juga bernama Kota Tu...         Budaya  Jakarta   \n",
              "2  Dunia Fantasi atau disebut juga Dufan adalah t...  Taman Hiburan  Jakarta   \n",
              "3  Taman Mini Indonesia Indah merupakan suatu kaw...  Taman Hiburan  Jakarta   \n",
              "4  Atlantis Water Adventure atau dikenal dengan A...  Taman Hiburan  Jakarta   \n",
              "\n",
              "    Price  Rating                                       Coordinate       Lat  \\\n",
              "0   20000     4.6          {'lat': -6.1753924, 'lng': 106.8271528} -6.175392   \n",
              "1       0     4.6  {'lat': -6.137644799999999, 'lng': 106.8171245} -6.137645   \n",
              "2  270000     4.6  {'lat': -6.125312399999999, 'lng': 106.8335377} -6.125312   \n",
              "3   10000     4.5  {'lat': -6.302445899999999, 'lng': 106.8951559} -6.302446   \n",
              "4   94000     4.5             {'lat': -6.12419, 'lng': 106.839134} -6.124190   \n",
              "\n",
              "         Long  \n",
              "0  106.827153  \n",
              "1  106.817125  \n",
              "2  106.833538  \n",
              "3  106.895156  \n",
              "4  106.839134  "
            ],
            "text/html": [
              "\n",
              "  <div id=\"df-7dace85a-ca59-4a7a-bcef-b00ee50f470d\">\n",
              "    <div class=\"colab-df-container\">\n",
              "      <div>\n",
              "<style scoped>\n",
              "    .dataframe tbody tr th:only-of-type {\n",
              "        vertical-align: middle;\n",
              "    }\n",
              "\n",
              "    .dataframe tbody tr th {\n",
              "        vertical-align: top;\n",
              "    }\n",
              "\n",
              "    .dataframe thead th {\n",
              "        text-align: right;\n",
              "    }\n",
              "</style>\n",
              "<table border=\"1\" class=\"dataframe\">\n",
              "  <thead>\n",
              "    <tr style=\"text-align: right;\">\n",
              "      <th></th>\n",
              "      <th>Place_Id</th>\n",
              "      <th>Place_Name</th>\n",
              "      <th>Description</th>\n",
              "      <th>Category</th>\n",
              "      <th>City</th>\n",
              "      <th>Price</th>\n",
              "      <th>Rating</th>\n",
              "      <th>Coordinate</th>\n",
              "      <th>Lat</th>\n",
              "      <th>Long</th>\n",
              "    </tr>\n",
              "  </thead>\n",
              "  <tbody>\n",
              "    <tr>\n",
              "      <th>0</th>\n",
              "      <td>1</td>\n",
              "      <td>Monumen Nasional</td>\n",
              "      <td>Monumen Nasional atau yang populer disingkat d...</td>\n",
              "      <td>Budaya</td>\n",
              "      <td>Jakarta</td>\n",
              "      <td>20000</td>\n",
              "      <td>4.6</td>\n",
              "      <td>{'lat': -6.1753924, 'lng': 106.8271528}</td>\n",
              "      <td>-6.175392</td>\n",
              "      <td>106.827153</td>\n",
              "    </tr>\n",
              "    <tr>\n",
              "      <th>1</th>\n",
              "      <td>2</td>\n",
              "      <td>Kota Tua</td>\n",
              "      <td>Kota tua di Jakarta, yang juga bernama Kota Tu...</td>\n",
              "      <td>Budaya</td>\n",
              "      <td>Jakarta</td>\n",
              "      <td>0</td>\n",
              "      <td>4.6</td>\n",
              "      <td>{'lat': -6.137644799999999, 'lng': 106.8171245}</td>\n",
              "      <td>-6.137645</td>\n",
              "      <td>106.817125</td>\n",
              "    </tr>\n",
              "    <tr>\n",
              "      <th>2</th>\n",
              "      <td>3</td>\n",
              "      <td>Dunia Fantasi</td>\n",
              "      <td>Dunia Fantasi atau disebut juga Dufan adalah t...</td>\n",
              "      <td>Taman Hiburan</td>\n",
              "      <td>Jakarta</td>\n",
              "      <td>270000</td>\n",
              "      <td>4.6</td>\n",
              "      <td>{'lat': -6.125312399999999, 'lng': 106.8335377}</td>\n",
              "      <td>-6.125312</td>\n",
              "      <td>106.833538</td>\n",
              "    </tr>\n",
              "    <tr>\n",
              "      <th>3</th>\n",
              "      <td>4</td>\n",
              "      <td>Taman Mini Indonesia Indah (TMII)</td>\n",
              "      <td>Taman Mini Indonesia Indah merupakan suatu kaw...</td>\n",
              "      <td>Taman Hiburan</td>\n",
              "      <td>Jakarta</td>\n",
              "      <td>10000</td>\n",
              "      <td>4.5</td>\n",
              "      <td>{'lat': -6.302445899999999, 'lng': 106.8951559}</td>\n",
              "      <td>-6.302446</td>\n",
              "      <td>106.895156</td>\n",
              "    </tr>\n",
              "    <tr>\n",
              "      <th>4</th>\n",
              "      <td>5</td>\n",
              "      <td>Atlantis Water Adventure</td>\n",
              "      <td>Atlantis Water Adventure atau dikenal dengan A...</td>\n",
              "      <td>Taman Hiburan</td>\n",
              "      <td>Jakarta</td>\n",
              "      <td>94000</td>\n",
              "      <td>4.5</td>\n",
              "      <td>{'lat': -6.12419, 'lng': 106.839134}</td>\n",
              "      <td>-6.124190</td>\n",
              "      <td>106.839134</td>\n",
              "    </tr>\n",
              "  </tbody>\n",
              "</table>\n",
              "</div>\n",
              "      <button class=\"colab-df-convert\" onclick=\"convertToInteractive('df-7dace85a-ca59-4a7a-bcef-b00ee50f470d')\"\n",
              "              title=\"Convert this dataframe to an interactive table.\"\n",
              "              style=\"display:none;\">\n",
              "        \n",
              "  <svg xmlns=\"http://www.w3.org/2000/svg\" height=\"24px\"viewBox=\"0 0 24 24\"\n",
              "       width=\"24px\">\n",
              "    <path d=\"M0 0h24v24H0V0z\" fill=\"none\"/>\n",
              "    <path d=\"M18.56 5.44l.94 2.06.94-2.06 2.06-.94-2.06-.94-.94-2.06-.94 2.06-2.06.94zm-11 1L8.5 8.5l.94-2.06 2.06-.94-2.06-.94L8.5 2.5l-.94 2.06-2.06.94zm10 10l.94 2.06.94-2.06 2.06-.94-2.06-.94-.94-2.06-.94 2.06-2.06.94z\"/><path d=\"M17.41 7.96l-1.37-1.37c-.4-.4-.92-.59-1.43-.59-.52 0-1.04.2-1.43.59L10.3 9.45l-7.72 7.72c-.78.78-.78 2.05 0 2.83L4 21.41c.39.39.9.59 1.41.59.51 0 1.02-.2 1.41-.59l7.78-7.78 2.81-2.81c.8-.78.8-2.07 0-2.86zM5.41 20L4 18.59l7.72-7.72 1.47 1.35L5.41 20z\"/>\n",
              "  </svg>\n",
              "      </button>\n",
              "      \n",
              "  <style>\n",
              "    .colab-df-container {\n",
              "      display:flex;\n",
              "      flex-wrap:wrap;\n",
              "      gap: 12px;\n",
              "    }\n",
              "\n",
              "    .colab-df-convert {\n",
              "      background-color: #E8F0FE;\n",
              "      border: none;\n",
              "      border-radius: 50%;\n",
              "      cursor: pointer;\n",
              "      display: none;\n",
              "      fill: #1967D2;\n",
              "      height: 32px;\n",
              "      padding: 0 0 0 0;\n",
              "      width: 32px;\n",
              "    }\n",
              "\n",
              "    .colab-df-convert:hover {\n",
              "      background-color: #E2EBFA;\n",
              "      box-shadow: 0px 1px 2px rgba(60, 64, 67, 0.3), 0px 1px 3px 1px rgba(60, 64, 67, 0.15);\n",
              "      fill: #174EA6;\n",
              "    }\n",
              "\n",
              "    [theme=dark] .colab-df-convert {\n",
              "      background-color: #3B4455;\n",
              "      fill: #D2E3FC;\n",
              "    }\n",
              "\n",
              "    [theme=dark] .colab-df-convert:hover {\n",
              "      background-color: #434B5C;\n",
              "      box-shadow: 0px 1px 3px 1px rgba(0, 0, 0, 0.15);\n",
              "      filter: drop-shadow(0px 1px 2px rgba(0, 0, 0, 0.3));\n",
              "      fill: #FFFFFF;\n",
              "    }\n",
              "  </style>\n",
              "\n",
              "      <script>\n",
              "        const buttonEl =\n",
              "          document.querySelector('#df-7dace85a-ca59-4a7a-bcef-b00ee50f470d button.colab-df-convert');\n",
              "        buttonEl.style.display =\n",
              "          google.colab.kernel.accessAllowed ? 'block' : 'none';\n",
              "\n",
              "        async function convertToInteractive(key) {\n",
              "          const element = document.querySelector('#df-7dace85a-ca59-4a7a-bcef-b00ee50f470d');\n",
              "          const dataTable =\n",
              "            await google.colab.kernel.invokeFunction('convertToInteractive',\n",
              "                                                     [key], {});\n",
              "          if (!dataTable) return;\n",
              "\n",
              "          const docLinkHtml = 'Like what you see? Visit the ' +\n",
              "            '<a target=\"_blank\" href=https://colab.research.google.com/notebooks/data_table.ipynb>data table notebook</a>'\n",
              "            + ' to learn more about interactive tables.';\n",
              "          element.innerHTML = '';\n",
              "          dataTable['output_type'] = 'display_data';\n",
              "          await google.colab.output.renderOutput(dataTable, element);\n",
              "          const docLink = document.createElement('div');\n",
              "          docLink.innerHTML = docLinkHtml;\n",
              "          element.appendChild(docLink);\n",
              "        }\n",
              "      </script>\n",
              "    </div>\n",
              "  </div>\n",
              "  "
            ]
          },
          "metadata": {},
          "execution_count": 9
        }
      ]
    },
    {
      "cell_type": "markdown",
      "source": [
        "Memilih data destinasi wisata di Kota Semarang"
      ],
      "metadata": {
        "id": "KGrPi7l8EW99"
      }
    },
    {
      "cell_type": "code",
      "source": [
        "place = place[place['City']=='Semarang']\n",
        "place.head(5)"
      ],
      "metadata": {
        "colab": {
          "base_uri": "https://localhost:8080/",
          "height": 652
        },
        "id": "7OttSiBCgUAn",
        "outputId": "9b1a426e-e591-42b4-a92b-e117ec303586"
      },
      "execution_count": null,
      "outputs": [
        {
          "output_type": "execute_result",
          "data": {
            "text/plain": [
              "     Place_Id           Place_Name  \\\n",
              "334       335   Candi Gedong Songo   \n",
              "335       336      Grand Maerakaca   \n",
              "336       337      Kampung Pelangi   \n",
              "337       338          Lawang Sewu   \n",
              "338       339  Sam Poo Kong Temple   \n",
              "\n",
              "                                           Description       Category  \\\n",
              "334  Candi Gedong Songo (bahasa Jawa: ꦕꦤ꧀ꦝꦶ​ꦒꦼꦝꦺꦴꦁ​...         Budaya   \n",
              "335  Masyarakat Jawa Tengah mungkin sudah tidak asi...  Taman Hiburan   \n",
              "336  Kampung pelangi atau dalam bahasa Inggris dise...  Taman Hiburan   \n",
              "337  Lawang Sewu (\"Seribu Pintu\") (bahasa Jawa: ꦭꦮꦁ...         Budaya   \n",
              "338  Sam Poo Kong (Hanzi: ; Pinyin: Sānbǎo Dòng), j...         Budaya   \n",
              "\n",
              "         City  Price  Rating                                       Coordinate  \\\n",
              "334  Semarang  10000     4.5  {'lat': -7.209886700000002, 'lng': 110.3421119}   \n",
              "335  Semarang  15000     4.4          {'lat': -6.9605225, 'lng': 110.3863941}   \n",
              "336  Semarang   3000     4.3  {'lat': -6.988881200000001, 'lng': 110.4083781}   \n",
              "337  Semarang  10000     4.6          {'lat': -6.9839099, 'lng': 110.4104342}   \n",
              "338  Semarang  35000     4.5   {'lat': -6.996236599999999, 'lng': 110.398122}   \n",
              "\n",
              "          Lat        Long  \n",
              "334 -7.209887  110.342112  \n",
              "335 -6.960522  110.386394  \n",
              "336 -6.988881  110.408378  \n",
              "337 -6.983910  110.410434  \n",
              "338 -6.996237  110.398122  "
            ],
            "text/html": [
              "\n",
              "  <div id=\"df-2126ce63-fc41-4426-9333-6f12f9879d67\">\n",
              "    <div class=\"colab-df-container\">\n",
              "      <div>\n",
              "<style scoped>\n",
              "    .dataframe tbody tr th:only-of-type {\n",
              "        vertical-align: middle;\n",
              "    }\n",
              "\n",
              "    .dataframe tbody tr th {\n",
              "        vertical-align: top;\n",
              "    }\n",
              "\n",
              "    .dataframe thead th {\n",
              "        text-align: right;\n",
              "    }\n",
              "</style>\n",
              "<table border=\"1\" class=\"dataframe\">\n",
              "  <thead>\n",
              "    <tr style=\"text-align: right;\">\n",
              "      <th></th>\n",
              "      <th>Place_Id</th>\n",
              "      <th>Place_Name</th>\n",
              "      <th>Description</th>\n",
              "      <th>Category</th>\n",
              "      <th>City</th>\n",
              "      <th>Price</th>\n",
              "      <th>Rating</th>\n",
              "      <th>Coordinate</th>\n",
              "      <th>Lat</th>\n",
              "      <th>Long</th>\n",
              "    </tr>\n",
              "  </thead>\n",
              "  <tbody>\n",
              "    <tr>\n",
              "      <th>334</th>\n",
              "      <td>335</td>\n",
              "      <td>Candi Gedong Songo</td>\n",
              "      <td>Candi Gedong Songo (bahasa Jawa: ꦕꦤ꧀ꦝꦶ​ꦒꦼꦝꦺꦴꦁ​...</td>\n",
              "      <td>Budaya</td>\n",
              "      <td>Semarang</td>\n",
              "      <td>10000</td>\n",
              "      <td>4.5</td>\n",
              "      <td>{'lat': -7.209886700000002, 'lng': 110.3421119}</td>\n",
              "      <td>-7.209887</td>\n",
              "      <td>110.342112</td>\n",
              "    </tr>\n",
              "    <tr>\n",
              "      <th>335</th>\n",
              "      <td>336</td>\n",
              "      <td>Grand Maerakaca</td>\n",
              "      <td>Masyarakat Jawa Tengah mungkin sudah tidak asi...</td>\n",
              "      <td>Taman Hiburan</td>\n",
              "      <td>Semarang</td>\n",
              "      <td>15000</td>\n",
              "      <td>4.4</td>\n",
              "      <td>{'lat': -6.9605225, 'lng': 110.3863941}</td>\n",
              "      <td>-6.960522</td>\n",
              "      <td>110.386394</td>\n",
              "    </tr>\n",
              "    <tr>\n",
              "      <th>336</th>\n",
              "      <td>337</td>\n",
              "      <td>Kampung Pelangi</td>\n",
              "      <td>Kampung pelangi atau dalam bahasa Inggris dise...</td>\n",
              "      <td>Taman Hiburan</td>\n",
              "      <td>Semarang</td>\n",
              "      <td>3000</td>\n",
              "      <td>4.3</td>\n",
              "      <td>{'lat': -6.988881200000001, 'lng': 110.4083781}</td>\n",
              "      <td>-6.988881</td>\n",
              "      <td>110.408378</td>\n",
              "    </tr>\n",
              "    <tr>\n",
              "      <th>337</th>\n",
              "      <td>338</td>\n",
              "      <td>Lawang Sewu</td>\n",
              "      <td>Lawang Sewu (\"Seribu Pintu\") (bahasa Jawa: ꦭꦮꦁ...</td>\n",
              "      <td>Budaya</td>\n",
              "      <td>Semarang</td>\n",
              "      <td>10000</td>\n",
              "      <td>4.6</td>\n",
              "      <td>{'lat': -6.9839099, 'lng': 110.4104342}</td>\n",
              "      <td>-6.983910</td>\n",
              "      <td>110.410434</td>\n",
              "    </tr>\n",
              "    <tr>\n",
              "      <th>338</th>\n",
              "      <td>339</td>\n",
              "      <td>Sam Poo Kong Temple</td>\n",
              "      <td>Sam Poo Kong (Hanzi: ; Pinyin: Sānbǎo Dòng), j...</td>\n",
              "      <td>Budaya</td>\n",
              "      <td>Semarang</td>\n",
              "      <td>35000</td>\n",
              "      <td>4.5</td>\n",
              "      <td>{'lat': -6.996236599999999, 'lng': 110.398122}</td>\n",
              "      <td>-6.996237</td>\n",
              "      <td>110.398122</td>\n",
              "    </tr>\n",
              "  </tbody>\n",
              "</table>\n",
              "</div>\n",
              "      <button class=\"colab-df-convert\" onclick=\"convertToInteractive('df-2126ce63-fc41-4426-9333-6f12f9879d67')\"\n",
              "              title=\"Convert this dataframe to an interactive table.\"\n",
              "              style=\"display:none;\">\n",
              "        \n",
              "  <svg xmlns=\"http://www.w3.org/2000/svg\" height=\"24px\"viewBox=\"0 0 24 24\"\n",
              "       width=\"24px\">\n",
              "    <path d=\"M0 0h24v24H0V0z\" fill=\"none\"/>\n",
              "    <path d=\"M18.56 5.44l.94 2.06.94-2.06 2.06-.94-2.06-.94-.94-2.06-.94 2.06-2.06.94zm-11 1L8.5 8.5l.94-2.06 2.06-.94-2.06-.94L8.5 2.5l-.94 2.06-2.06.94zm10 10l.94 2.06.94-2.06 2.06-.94-2.06-.94-.94-2.06-.94 2.06-2.06.94z\"/><path d=\"M17.41 7.96l-1.37-1.37c-.4-.4-.92-.59-1.43-.59-.52 0-1.04.2-1.43.59L10.3 9.45l-7.72 7.72c-.78.78-.78 2.05 0 2.83L4 21.41c.39.39.9.59 1.41.59.51 0 1.02-.2 1.41-.59l7.78-7.78 2.81-2.81c.8-.78.8-2.07 0-2.86zM5.41 20L4 18.59l7.72-7.72 1.47 1.35L5.41 20z\"/>\n",
              "  </svg>\n",
              "      </button>\n",
              "      \n",
              "  <style>\n",
              "    .colab-df-container {\n",
              "      display:flex;\n",
              "      flex-wrap:wrap;\n",
              "      gap: 12px;\n",
              "    }\n",
              "\n",
              "    .colab-df-convert {\n",
              "      background-color: #E8F0FE;\n",
              "      border: none;\n",
              "      border-radius: 50%;\n",
              "      cursor: pointer;\n",
              "      display: none;\n",
              "      fill: #1967D2;\n",
              "      height: 32px;\n",
              "      padding: 0 0 0 0;\n",
              "      width: 32px;\n",
              "    }\n",
              "\n",
              "    .colab-df-convert:hover {\n",
              "      background-color: #E2EBFA;\n",
              "      box-shadow: 0px 1px 2px rgba(60, 64, 67, 0.3), 0px 1px 3px 1px rgba(60, 64, 67, 0.15);\n",
              "      fill: #174EA6;\n",
              "    }\n",
              "\n",
              "    [theme=dark] .colab-df-convert {\n",
              "      background-color: #3B4455;\n",
              "      fill: #D2E3FC;\n",
              "    }\n",
              "\n",
              "    [theme=dark] .colab-df-convert:hover {\n",
              "      background-color: #434B5C;\n",
              "      box-shadow: 0px 1px 3px 1px rgba(0, 0, 0, 0.15);\n",
              "      filter: drop-shadow(0px 1px 2px rgba(0, 0, 0, 0.3));\n",
              "      fill: #FFFFFF;\n",
              "    }\n",
              "  </style>\n",
              "\n",
              "      <script>\n",
              "        const buttonEl =\n",
              "          document.querySelector('#df-2126ce63-fc41-4426-9333-6f12f9879d67 button.colab-df-convert');\n",
              "        buttonEl.style.display =\n",
              "          google.colab.kernel.accessAllowed ? 'block' : 'none';\n",
              "\n",
              "        async function convertToInteractive(key) {\n",
              "          const element = document.querySelector('#df-2126ce63-fc41-4426-9333-6f12f9879d67');\n",
              "          const dataTable =\n",
              "            await google.colab.kernel.invokeFunction('convertToInteractive',\n",
              "                                                     [key], {});\n",
              "          if (!dataTable) return;\n",
              "\n",
              "          const docLinkHtml = 'Like what you see? Visit the ' +\n",
              "            '<a target=\"_blank\" href=https://colab.research.google.com/notebooks/data_table.ipynb>data table notebook</a>'\n",
              "            + ' to learn more about interactive tables.';\n",
              "          element.innerHTML = '';\n",
              "          dataTable['output_type'] = 'display_data';\n",
              "          await google.colab.output.renderOutput(dataTable, element);\n",
              "          const docLink = document.createElement('div');\n",
              "          docLink.innerHTML = docLinkHtml;\n",
              "          element.appendChild(docLink);\n",
              "        }\n",
              "      </script>\n",
              "    </div>\n",
              "  </div>\n",
              "  "
            ]
          },
          "metadata": {},
          "execution_count": 10
        }
      ]
    },
    {
      "cell_type": "code",
      "source": [
        "place.info()"
      ],
      "metadata": {
        "colab": {
          "base_uri": "https://localhost:8080/"
        },
        "id": "1SMcawTqgdNe",
        "outputId": "3630ed51-20da-4d5b-b3d1-1e8c7ab37b98"
      },
      "execution_count": null,
      "outputs": [
        {
          "output_type": "stream",
          "name": "stdout",
          "text": [
            "<class 'pandas.core.frame.DataFrame'>\n",
            "Int64Index: 57 entries, 334 to 390\n",
            "Data columns (total 10 columns):\n",
            " #   Column       Non-Null Count  Dtype  \n",
            "---  ------       --------------  -----  \n",
            " 0   Place_Id     57 non-null     int64  \n",
            " 1   Place_Name   57 non-null     object \n",
            " 2   Description  57 non-null     object \n",
            " 3   Category     57 non-null     object \n",
            " 4   City         57 non-null     object \n",
            " 5   Price        57 non-null     int64  \n",
            " 6   Rating       57 non-null     float64\n",
            " 7   Coordinate   57 non-null     object \n",
            " 8   Lat          57 non-null     float64\n",
            " 9   Long         57 non-null     float64\n",
            "dtypes: float64(3), int64(2), object(5)\n",
            "memory usage: 4.9+ KB\n"
          ]
        }
      ]
    },
    {
      "cell_type": "markdown",
      "source": [
        "Melihat gambaran data rating"
      ],
      "metadata": {
        "id": "jpnF-9smEhit"
      }
    },
    {
      "cell_type": "code",
      "source": [
        "rating.head()"
      ],
      "metadata": {
        "colab": {
          "base_uri": "https://localhost:8080/",
          "height": 206
        },
        "id": "_EQD52O6giJf",
        "outputId": "427ff468-c5a6-4668-da49-169662482952"
      },
      "execution_count": null,
      "outputs": [
        {
          "output_type": "execute_result",
          "data": {
            "text/plain": [
              "   User_Id  Place_Id  Place_Ratings\n",
              "0        1       179              3\n",
              "1        1       344              2\n",
              "2        1         5              5\n",
              "3        1       373              3\n",
              "4        1       101              4"
            ],
            "text/html": [
              "\n",
              "  <div id=\"df-cda930d1-0e32-4790-837f-af00b37247d3\">\n",
              "    <div class=\"colab-df-container\">\n",
              "      <div>\n",
              "<style scoped>\n",
              "    .dataframe tbody tr th:only-of-type {\n",
              "        vertical-align: middle;\n",
              "    }\n",
              "\n",
              "    .dataframe tbody tr th {\n",
              "        vertical-align: top;\n",
              "    }\n",
              "\n",
              "    .dataframe thead th {\n",
              "        text-align: right;\n",
              "    }\n",
              "</style>\n",
              "<table border=\"1\" class=\"dataframe\">\n",
              "  <thead>\n",
              "    <tr style=\"text-align: right;\">\n",
              "      <th></th>\n",
              "      <th>User_Id</th>\n",
              "      <th>Place_Id</th>\n",
              "      <th>Place_Ratings</th>\n",
              "    </tr>\n",
              "  </thead>\n",
              "  <tbody>\n",
              "    <tr>\n",
              "      <th>0</th>\n",
              "      <td>1</td>\n",
              "      <td>179</td>\n",
              "      <td>3</td>\n",
              "    </tr>\n",
              "    <tr>\n",
              "      <th>1</th>\n",
              "      <td>1</td>\n",
              "      <td>344</td>\n",
              "      <td>2</td>\n",
              "    </tr>\n",
              "    <tr>\n",
              "      <th>2</th>\n",
              "      <td>1</td>\n",
              "      <td>5</td>\n",
              "      <td>5</td>\n",
              "    </tr>\n",
              "    <tr>\n",
              "      <th>3</th>\n",
              "      <td>1</td>\n",
              "      <td>373</td>\n",
              "      <td>3</td>\n",
              "    </tr>\n",
              "    <tr>\n",
              "      <th>4</th>\n",
              "      <td>1</td>\n",
              "      <td>101</td>\n",
              "      <td>4</td>\n",
              "    </tr>\n",
              "  </tbody>\n",
              "</table>\n",
              "</div>\n",
              "      <button class=\"colab-df-convert\" onclick=\"convertToInteractive('df-cda930d1-0e32-4790-837f-af00b37247d3')\"\n",
              "              title=\"Convert this dataframe to an interactive table.\"\n",
              "              style=\"display:none;\">\n",
              "        \n",
              "  <svg xmlns=\"http://www.w3.org/2000/svg\" height=\"24px\"viewBox=\"0 0 24 24\"\n",
              "       width=\"24px\">\n",
              "    <path d=\"M0 0h24v24H0V0z\" fill=\"none\"/>\n",
              "    <path d=\"M18.56 5.44l.94 2.06.94-2.06 2.06-.94-2.06-.94-.94-2.06-.94 2.06-2.06.94zm-11 1L8.5 8.5l.94-2.06 2.06-.94-2.06-.94L8.5 2.5l-.94 2.06-2.06.94zm10 10l.94 2.06.94-2.06 2.06-.94-2.06-.94-.94-2.06-.94 2.06-2.06.94z\"/><path d=\"M17.41 7.96l-1.37-1.37c-.4-.4-.92-.59-1.43-.59-.52 0-1.04.2-1.43.59L10.3 9.45l-7.72 7.72c-.78.78-.78 2.05 0 2.83L4 21.41c.39.39.9.59 1.41.59.51 0 1.02-.2 1.41-.59l7.78-7.78 2.81-2.81c.8-.78.8-2.07 0-2.86zM5.41 20L4 18.59l7.72-7.72 1.47 1.35L5.41 20z\"/>\n",
              "  </svg>\n",
              "      </button>\n",
              "      \n",
              "  <style>\n",
              "    .colab-df-container {\n",
              "      display:flex;\n",
              "      flex-wrap:wrap;\n",
              "      gap: 12px;\n",
              "    }\n",
              "\n",
              "    .colab-df-convert {\n",
              "      background-color: #E8F0FE;\n",
              "      border: none;\n",
              "      border-radius: 50%;\n",
              "      cursor: pointer;\n",
              "      display: none;\n",
              "      fill: #1967D2;\n",
              "      height: 32px;\n",
              "      padding: 0 0 0 0;\n",
              "      width: 32px;\n",
              "    }\n",
              "\n",
              "    .colab-df-convert:hover {\n",
              "      background-color: #E2EBFA;\n",
              "      box-shadow: 0px 1px 2px rgba(60, 64, 67, 0.3), 0px 1px 3px 1px rgba(60, 64, 67, 0.15);\n",
              "      fill: #174EA6;\n",
              "    }\n",
              "\n",
              "    [theme=dark] .colab-df-convert {\n",
              "      background-color: #3B4455;\n",
              "      fill: #D2E3FC;\n",
              "    }\n",
              "\n",
              "    [theme=dark] .colab-df-convert:hover {\n",
              "      background-color: #434B5C;\n",
              "      box-shadow: 0px 1px 3px 1px rgba(0, 0, 0, 0.15);\n",
              "      filter: drop-shadow(0px 1px 2px rgba(0, 0, 0, 0.3));\n",
              "      fill: #FFFFFF;\n",
              "    }\n",
              "  </style>\n",
              "\n",
              "      <script>\n",
              "        const buttonEl =\n",
              "          document.querySelector('#df-cda930d1-0e32-4790-837f-af00b37247d3 button.colab-df-convert');\n",
              "        buttonEl.style.display =\n",
              "          google.colab.kernel.accessAllowed ? 'block' : 'none';\n",
              "\n",
              "        async function convertToInteractive(key) {\n",
              "          const element = document.querySelector('#df-cda930d1-0e32-4790-837f-af00b37247d3');\n",
              "          const dataTable =\n",
              "            await google.colab.kernel.invokeFunction('convertToInteractive',\n",
              "                                                     [key], {});\n",
              "          if (!dataTable) return;\n",
              "\n",
              "          const docLinkHtml = 'Like what you see? Visit the ' +\n",
              "            '<a target=\"_blank\" href=https://colab.research.google.com/notebooks/data_table.ipynb>data table notebook</a>'\n",
              "            + ' to learn more about interactive tables.';\n",
              "          element.innerHTML = '';\n",
              "          dataTable['output_type'] = 'display_data';\n",
              "          await google.colab.output.renderOutput(dataTable, element);\n",
              "          const docLink = document.createElement('div');\n",
              "          docLink.innerHTML = docLinkHtml;\n",
              "          element.appendChild(docLink);\n",
              "        }\n",
              "      </script>\n",
              "    </div>\n",
              "  </div>\n",
              "  "
            ]
          },
          "metadata": {},
          "execution_count": 12
        }
      ]
    },
    {
      "cell_type": "code",
      "source": [
        "rating.info()"
      ],
      "metadata": {
        "colab": {
          "base_uri": "https://localhost:8080/"
        },
        "id": "XV-rH81khhKq",
        "outputId": "cad72c76-7932-4d2a-ce8b-1edf362f3279"
      },
      "execution_count": null,
      "outputs": [
        {
          "output_type": "stream",
          "name": "stdout",
          "text": [
            "<class 'pandas.core.frame.DataFrame'>\n",
            "RangeIndex: 10000 entries, 0 to 9999\n",
            "Data columns (total 3 columns):\n",
            " #   Column         Non-Null Count  Dtype\n",
            "---  ------         --------------  -----\n",
            " 0   User_Id        10000 non-null  int64\n",
            " 1   Place_Id       10000 non-null  int64\n",
            " 2   Place_Ratings  10000 non-null  int64\n",
            "dtypes: int64(3)\n",
            "memory usage: 234.5 KB\n"
          ]
        }
      ]
    },
    {
      "cell_type": "markdown",
      "source": [
        "Merubah data rating agar hanya berisi rating pada tempat wisata dari Kota Semarang"
      ],
      "metadata": {
        "id": "lPaXeok6FQFf"
      }
    },
    {
      "cell_type": "code",
      "source": [
        "rating = pd.merge(rating, place[['Place_Id']], how='right', on='Place_Id')\n",
        "rating.head()"
      ],
      "metadata": {
        "colab": {
          "base_uri": "https://localhost:8080/",
          "height": 206
        },
        "id": "N7Dj7V_Vhlgl",
        "outputId": "1f66a6f2-2465-4d59-ce36-b31f8f5c1ec0"
      },
      "execution_count": null,
      "outputs": [
        {
          "output_type": "execute_result",
          "data": {
            "text/plain": [
              "   User_Id  Place_Id  Place_Ratings\n",
              "0        5       335              3\n",
              "1       20       335              4\n",
              "2       41       335              5\n",
              "3       55       335              2\n",
              "4       70       335              3"
            ],
            "text/html": [
              "\n",
              "  <div id=\"df-836e6f45-8362-4798-95bf-2bb336457c31\">\n",
              "    <div class=\"colab-df-container\">\n",
              "      <div>\n",
              "<style scoped>\n",
              "    .dataframe tbody tr th:only-of-type {\n",
              "        vertical-align: middle;\n",
              "    }\n",
              "\n",
              "    .dataframe tbody tr th {\n",
              "        vertical-align: top;\n",
              "    }\n",
              "\n",
              "    .dataframe thead th {\n",
              "        text-align: right;\n",
              "    }\n",
              "</style>\n",
              "<table border=\"1\" class=\"dataframe\">\n",
              "  <thead>\n",
              "    <tr style=\"text-align: right;\">\n",
              "      <th></th>\n",
              "      <th>User_Id</th>\n",
              "      <th>Place_Id</th>\n",
              "      <th>Place_Ratings</th>\n",
              "    </tr>\n",
              "  </thead>\n",
              "  <tbody>\n",
              "    <tr>\n",
              "      <th>0</th>\n",
              "      <td>5</td>\n",
              "      <td>335</td>\n",
              "      <td>3</td>\n",
              "    </tr>\n",
              "    <tr>\n",
              "      <th>1</th>\n",
              "      <td>20</td>\n",
              "      <td>335</td>\n",
              "      <td>4</td>\n",
              "    </tr>\n",
              "    <tr>\n",
              "      <th>2</th>\n",
              "      <td>41</td>\n",
              "      <td>335</td>\n",
              "      <td>5</td>\n",
              "    </tr>\n",
              "    <tr>\n",
              "      <th>3</th>\n",
              "      <td>55</td>\n",
              "      <td>335</td>\n",
              "      <td>2</td>\n",
              "    </tr>\n",
              "    <tr>\n",
              "      <th>4</th>\n",
              "      <td>70</td>\n",
              "      <td>335</td>\n",
              "      <td>3</td>\n",
              "    </tr>\n",
              "  </tbody>\n",
              "</table>\n",
              "</div>\n",
              "      <button class=\"colab-df-convert\" onclick=\"convertToInteractive('df-836e6f45-8362-4798-95bf-2bb336457c31')\"\n",
              "              title=\"Convert this dataframe to an interactive table.\"\n",
              "              style=\"display:none;\">\n",
              "        \n",
              "  <svg xmlns=\"http://www.w3.org/2000/svg\" height=\"24px\"viewBox=\"0 0 24 24\"\n",
              "       width=\"24px\">\n",
              "    <path d=\"M0 0h24v24H0V0z\" fill=\"none\"/>\n",
              "    <path d=\"M18.56 5.44l.94 2.06.94-2.06 2.06-.94-2.06-.94-.94-2.06-.94 2.06-2.06.94zm-11 1L8.5 8.5l.94-2.06 2.06-.94-2.06-.94L8.5 2.5l-.94 2.06-2.06.94zm10 10l.94 2.06.94-2.06 2.06-.94-2.06-.94-.94-2.06-.94 2.06-2.06.94z\"/><path d=\"M17.41 7.96l-1.37-1.37c-.4-.4-.92-.59-1.43-.59-.52 0-1.04.2-1.43.59L10.3 9.45l-7.72 7.72c-.78.78-.78 2.05 0 2.83L4 21.41c.39.39.9.59 1.41.59.51 0 1.02-.2 1.41-.59l7.78-7.78 2.81-2.81c.8-.78.8-2.07 0-2.86zM5.41 20L4 18.59l7.72-7.72 1.47 1.35L5.41 20z\"/>\n",
              "  </svg>\n",
              "      </button>\n",
              "      \n",
              "  <style>\n",
              "    .colab-df-container {\n",
              "      display:flex;\n",
              "      flex-wrap:wrap;\n",
              "      gap: 12px;\n",
              "    }\n",
              "\n",
              "    .colab-df-convert {\n",
              "      background-color: #E8F0FE;\n",
              "      border: none;\n",
              "      border-radius: 50%;\n",
              "      cursor: pointer;\n",
              "      display: none;\n",
              "      fill: #1967D2;\n",
              "      height: 32px;\n",
              "      padding: 0 0 0 0;\n",
              "      width: 32px;\n",
              "    }\n",
              "\n",
              "    .colab-df-convert:hover {\n",
              "      background-color: #E2EBFA;\n",
              "      box-shadow: 0px 1px 2px rgba(60, 64, 67, 0.3), 0px 1px 3px 1px rgba(60, 64, 67, 0.15);\n",
              "      fill: #174EA6;\n",
              "    }\n",
              "\n",
              "    [theme=dark] .colab-df-convert {\n",
              "      background-color: #3B4455;\n",
              "      fill: #D2E3FC;\n",
              "    }\n",
              "\n",
              "    [theme=dark] .colab-df-convert:hover {\n",
              "      background-color: #434B5C;\n",
              "      box-shadow: 0px 1px 3px 1px rgba(0, 0, 0, 0.15);\n",
              "      filter: drop-shadow(0px 1px 2px rgba(0, 0, 0, 0.3));\n",
              "      fill: #FFFFFF;\n",
              "    }\n",
              "  </style>\n",
              "\n",
              "      <script>\n",
              "        const buttonEl =\n",
              "          document.querySelector('#df-836e6f45-8362-4798-95bf-2bb336457c31 button.colab-df-convert');\n",
              "        buttonEl.style.display =\n",
              "          google.colab.kernel.accessAllowed ? 'block' : 'none';\n",
              "\n",
              "        async function convertToInteractive(key) {\n",
              "          const element = document.querySelector('#df-836e6f45-8362-4798-95bf-2bb336457c31');\n",
              "          const dataTable =\n",
              "            await google.colab.kernel.invokeFunction('convertToInteractive',\n",
              "                                                     [key], {});\n",
              "          if (!dataTable) return;\n",
              "\n",
              "          const docLinkHtml = 'Like what you see? Visit the ' +\n",
              "            '<a target=\"_blank\" href=https://colab.research.google.com/notebooks/data_table.ipynb>data table notebook</a>'\n",
              "            + ' to learn more about interactive tables.';\n",
              "          element.innerHTML = '';\n",
              "          dataTable['output_type'] = 'display_data';\n",
              "          await google.colab.output.renderOutput(dataTable, element);\n",
              "          const docLink = document.createElement('div');\n",
              "          docLink.innerHTML = docLinkHtml;\n",
              "          element.appendChild(docLink);\n",
              "        }\n",
              "      </script>\n",
              "    </div>\n",
              "  </div>\n",
              "  "
            ]
          },
          "metadata": {},
          "execution_count": 14
        }
      ]
    },
    {
      "cell_type": "markdown",
      "source": [
        "Melihat ukuran dataset rating untuk Kota Semarang"
      ],
      "metadata": {
        "id": "-Mm9EiWjFTqr"
      }
    },
    {
      "cell_type": "code",
      "source": [
        "rating.shape"
      ],
      "metadata": {
        "colab": {
          "base_uri": "https://localhost:8080/"
        },
        "id": "OtybgGqZhqgD",
        "outputId": "0a3c3aaf-aefa-4d3c-c128-89101e52cdd9"
      },
      "execution_count": null,
      "outputs": [
        {
          "output_type": "execute_result",
          "data": {
            "text/plain": [
              "(1317, 3)"
            ]
          },
          "metadata": {},
          "execution_count": 15
        }
      ]
    },
    {
      "cell_type": "markdown",
      "source": [
        "Melihat gambaran data user"
      ],
      "metadata": {
        "id": "3uQ_654xFXEQ"
      }
    },
    {
      "cell_type": "code",
      "source": [
        "user.head()"
      ],
      "metadata": {
        "colab": {
          "base_uri": "https://localhost:8080/",
          "height": 206
        },
        "id": "ebl-rN3VhtWT",
        "outputId": "1fda8e77-90d2-4a1e-ca7b-dfe1c2e012f0"
      },
      "execution_count": null,
      "outputs": [
        {
          "output_type": "execute_result",
          "data": {
            "text/plain": [
              "   User_Id                   Location  Age\n",
              "0        1      Semarang, Jawa Tengah   20\n",
              "1        2         Bekasi, Jawa Barat   21\n",
              "2        3        Cirebon, Jawa Barat   23\n",
              "3        4         Bekasi, Jawa Barat   21\n",
              "4        5  Lampung, Sumatera Selatan   20"
            ],
            "text/html": [
              "\n",
              "  <div id=\"df-53a8b6d9-4292-4891-a5d3-e3fdc925acad\">\n",
              "    <div class=\"colab-df-container\">\n",
              "      <div>\n",
              "<style scoped>\n",
              "    .dataframe tbody tr th:only-of-type {\n",
              "        vertical-align: middle;\n",
              "    }\n",
              "\n",
              "    .dataframe tbody tr th {\n",
              "        vertical-align: top;\n",
              "    }\n",
              "\n",
              "    .dataframe thead th {\n",
              "        text-align: right;\n",
              "    }\n",
              "</style>\n",
              "<table border=\"1\" class=\"dataframe\">\n",
              "  <thead>\n",
              "    <tr style=\"text-align: right;\">\n",
              "      <th></th>\n",
              "      <th>User_Id</th>\n",
              "      <th>Location</th>\n",
              "      <th>Age</th>\n",
              "    </tr>\n",
              "  </thead>\n",
              "  <tbody>\n",
              "    <tr>\n",
              "      <th>0</th>\n",
              "      <td>1</td>\n",
              "      <td>Semarang, Jawa Tengah</td>\n",
              "      <td>20</td>\n",
              "    </tr>\n",
              "    <tr>\n",
              "      <th>1</th>\n",
              "      <td>2</td>\n",
              "      <td>Bekasi, Jawa Barat</td>\n",
              "      <td>21</td>\n",
              "    </tr>\n",
              "    <tr>\n",
              "      <th>2</th>\n",
              "      <td>3</td>\n",
              "      <td>Cirebon, Jawa Barat</td>\n",
              "      <td>23</td>\n",
              "    </tr>\n",
              "    <tr>\n",
              "      <th>3</th>\n",
              "      <td>4</td>\n",
              "      <td>Bekasi, Jawa Barat</td>\n",
              "      <td>21</td>\n",
              "    </tr>\n",
              "    <tr>\n",
              "      <th>4</th>\n",
              "      <td>5</td>\n",
              "      <td>Lampung, Sumatera Selatan</td>\n",
              "      <td>20</td>\n",
              "    </tr>\n",
              "  </tbody>\n",
              "</table>\n",
              "</div>\n",
              "      <button class=\"colab-df-convert\" onclick=\"convertToInteractive('df-53a8b6d9-4292-4891-a5d3-e3fdc925acad')\"\n",
              "              title=\"Convert this dataframe to an interactive table.\"\n",
              "              style=\"display:none;\">\n",
              "        \n",
              "  <svg xmlns=\"http://www.w3.org/2000/svg\" height=\"24px\"viewBox=\"0 0 24 24\"\n",
              "       width=\"24px\">\n",
              "    <path d=\"M0 0h24v24H0V0z\" fill=\"none\"/>\n",
              "    <path d=\"M18.56 5.44l.94 2.06.94-2.06 2.06-.94-2.06-.94-.94-2.06-.94 2.06-2.06.94zm-11 1L8.5 8.5l.94-2.06 2.06-.94-2.06-.94L8.5 2.5l-.94 2.06-2.06.94zm10 10l.94 2.06.94-2.06 2.06-.94-2.06-.94-.94-2.06-.94 2.06-2.06.94z\"/><path d=\"M17.41 7.96l-1.37-1.37c-.4-.4-.92-.59-1.43-.59-.52 0-1.04.2-1.43.59L10.3 9.45l-7.72 7.72c-.78.78-.78 2.05 0 2.83L4 21.41c.39.39.9.59 1.41.59.51 0 1.02-.2 1.41-.59l7.78-7.78 2.81-2.81c.8-.78.8-2.07 0-2.86zM5.41 20L4 18.59l7.72-7.72 1.47 1.35L5.41 20z\"/>\n",
              "  </svg>\n",
              "      </button>\n",
              "      \n",
              "  <style>\n",
              "    .colab-df-container {\n",
              "      display:flex;\n",
              "      flex-wrap:wrap;\n",
              "      gap: 12px;\n",
              "    }\n",
              "\n",
              "    .colab-df-convert {\n",
              "      background-color: #E8F0FE;\n",
              "      border: none;\n",
              "      border-radius: 50%;\n",
              "      cursor: pointer;\n",
              "      display: none;\n",
              "      fill: #1967D2;\n",
              "      height: 32px;\n",
              "      padding: 0 0 0 0;\n",
              "      width: 32px;\n",
              "    }\n",
              "\n",
              "    .colab-df-convert:hover {\n",
              "      background-color: #E2EBFA;\n",
              "      box-shadow: 0px 1px 2px rgba(60, 64, 67, 0.3), 0px 1px 3px 1px rgba(60, 64, 67, 0.15);\n",
              "      fill: #174EA6;\n",
              "    }\n",
              "\n",
              "    [theme=dark] .colab-df-convert {\n",
              "      background-color: #3B4455;\n",
              "      fill: #D2E3FC;\n",
              "    }\n",
              "\n",
              "    [theme=dark] .colab-df-convert:hover {\n",
              "      background-color: #434B5C;\n",
              "      box-shadow: 0px 1px 3px 1px rgba(0, 0, 0, 0.15);\n",
              "      filter: drop-shadow(0px 1px 2px rgba(0, 0, 0, 0.3));\n",
              "      fill: #FFFFFF;\n",
              "    }\n",
              "  </style>\n",
              "\n",
              "      <script>\n",
              "        const buttonEl =\n",
              "          document.querySelector('#df-53a8b6d9-4292-4891-a5d3-e3fdc925acad button.colab-df-convert');\n",
              "        buttonEl.style.display =\n",
              "          google.colab.kernel.accessAllowed ? 'block' : 'none';\n",
              "\n",
              "        async function convertToInteractive(key) {\n",
              "          const element = document.querySelector('#df-53a8b6d9-4292-4891-a5d3-e3fdc925acad');\n",
              "          const dataTable =\n",
              "            await google.colab.kernel.invokeFunction('convertToInteractive',\n",
              "                                                     [key], {});\n",
              "          if (!dataTable) return;\n",
              "\n",
              "          const docLinkHtml = 'Like what you see? Visit the ' +\n",
              "            '<a target=\"_blank\" href=https://colab.research.google.com/notebooks/data_table.ipynb>data table notebook</a>'\n",
              "            + ' to learn more about interactive tables.';\n",
              "          element.innerHTML = '';\n",
              "          dataTable['output_type'] = 'display_data';\n",
              "          await google.colab.output.renderOutput(dataTable, element);\n",
              "          const docLink = document.createElement('div');\n",
              "          docLink.innerHTML = docLinkHtml;\n",
              "          element.appendChild(docLink);\n",
              "        }\n",
              "      </script>\n",
              "    </div>\n",
              "  </div>\n",
              "  "
            ]
          },
          "metadata": {},
          "execution_count": 16
        }
      ]
    },
    {
      "cell_type": "markdown",
      "source": [
        "Merubah data user agar hanya berisi user yang pernah megunjungi wisata di Kota Semarang"
      ],
      "metadata": {
        "id": "jbldnPBMFbUp"
      }
    },
    {
      "cell_type": "code",
      "source": [
        "user = pd.merge(user, rating[['User_Id']], how='right', on='User_Id').drop_duplicates().sort_values('User_Id')\n",
        "user.head()"
      ],
      "metadata": {
        "colab": {
          "base_uri": "https://localhost:8080/",
          "height": 206
        },
        "id": "zKDkhPJohwlr",
        "outputId": "5de72487-e3d2-403f-8cc2-47468eb6e1ef"
      },
      "execution_count": null,
      "outputs": [
        {
          "output_type": "execute_result",
          "data": {
            "text/plain": [
              "      User_Id                   Location  Age\n",
              "23          1      Semarang, Jawa Tengah   20\n",
              "725         2         Bekasi, Jawa Barat   21\n",
              "1105        3        Cirebon, Jawa Barat   23\n",
              "326         4         Bekasi, Jawa Barat   21\n",
              "0           5  Lampung, Sumatera Selatan   20"
            ],
            "text/html": [
              "\n",
              "  <div id=\"df-50803efd-67fe-443e-bc39-510e750c2bb8\">\n",
              "    <div class=\"colab-df-container\">\n",
              "      <div>\n",
              "<style scoped>\n",
              "    .dataframe tbody tr th:only-of-type {\n",
              "        vertical-align: middle;\n",
              "    }\n",
              "\n",
              "    .dataframe tbody tr th {\n",
              "        vertical-align: top;\n",
              "    }\n",
              "\n",
              "    .dataframe thead th {\n",
              "        text-align: right;\n",
              "    }\n",
              "</style>\n",
              "<table border=\"1\" class=\"dataframe\">\n",
              "  <thead>\n",
              "    <tr style=\"text-align: right;\">\n",
              "      <th></th>\n",
              "      <th>User_Id</th>\n",
              "      <th>Location</th>\n",
              "      <th>Age</th>\n",
              "    </tr>\n",
              "  </thead>\n",
              "  <tbody>\n",
              "    <tr>\n",
              "      <th>23</th>\n",
              "      <td>1</td>\n",
              "      <td>Semarang, Jawa Tengah</td>\n",
              "      <td>20</td>\n",
              "    </tr>\n",
              "    <tr>\n",
              "      <th>725</th>\n",
              "      <td>2</td>\n",
              "      <td>Bekasi, Jawa Barat</td>\n",
              "      <td>21</td>\n",
              "    </tr>\n",
              "    <tr>\n",
              "      <th>1105</th>\n",
              "      <td>3</td>\n",
              "      <td>Cirebon, Jawa Barat</td>\n",
              "      <td>23</td>\n",
              "    </tr>\n",
              "    <tr>\n",
              "      <th>326</th>\n",
              "      <td>4</td>\n",
              "      <td>Bekasi, Jawa Barat</td>\n",
              "      <td>21</td>\n",
              "    </tr>\n",
              "    <tr>\n",
              "      <th>0</th>\n",
              "      <td>5</td>\n",
              "      <td>Lampung, Sumatera Selatan</td>\n",
              "      <td>20</td>\n",
              "    </tr>\n",
              "  </tbody>\n",
              "</table>\n",
              "</div>\n",
              "      <button class=\"colab-df-convert\" onclick=\"convertToInteractive('df-50803efd-67fe-443e-bc39-510e750c2bb8')\"\n",
              "              title=\"Convert this dataframe to an interactive table.\"\n",
              "              style=\"display:none;\">\n",
              "        \n",
              "  <svg xmlns=\"http://www.w3.org/2000/svg\" height=\"24px\"viewBox=\"0 0 24 24\"\n",
              "       width=\"24px\">\n",
              "    <path d=\"M0 0h24v24H0V0z\" fill=\"none\"/>\n",
              "    <path d=\"M18.56 5.44l.94 2.06.94-2.06 2.06-.94-2.06-.94-.94-2.06-.94 2.06-2.06.94zm-11 1L8.5 8.5l.94-2.06 2.06-.94-2.06-.94L8.5 2.5l-.94 2.06-2.06.94zm10 10l.94 2.06.94-2.06 2.06-.94-2.06-.94-.94-2.06-.94 2.06-2.06.94z\"/><path d=\"M17.41 7.96l-1.37-1.37c-.4-.4-.92-.59-1.43-.59-.52 0-1.04.2-1.43.59L10.3 9.45l-7.72 7.72c-.78.78-.78 2.05 0 2.83L4 21.41c.39.39.9.59 1.41.59.51 0 1.02-.2 1.41-.59l7.78-7.78 2.81-2.81c.8-.78.8-2.07 0-2.86zM5.41 20L4 18.59l7.72-7.72 1.47 1.35L5.41 20z\"/>\n",
              "  </svg>\n",
              "      </button>\n",
              "      \n",
              "  <style>\n",
              "    .colab-df-container {\n",
              "      display:flex;\n",
              "      flex-wrap:wrap;\n",
              "      gap: 12px;\n",
              "    }\n",
              "\n",
              "    .colab-df-convert {\n",
              "      background-color: #E8F0FE;\n",
              "      border: none;\n",
              "      border-radius: 50%;\n",
              "      cursor: pointer;\n",
              "      display: none;\n",
              "      fill: #1967D2;\n",
              "      height: 32px;\n",
              "      padding: 0 0 0 0;\n",
              "      width: 32px;\n",
              "    }\n",
              "\n",
              "    .colab-df-convert:hover {\n",
              "      background-color: #E2EBFA;\n",
              "      box-shadow: 0px 1px 2px rgba(60, 64, 67, 0.3), 0px 1px 3px 1px rgba(60, 64, 67, 0.15);\n",
              "      fill: #174EA6;\n",
              "    }\n",
              "\n",
              "    [theme=dark] .colab-df-convert {\n",
              "      background-color: #3B4455;\n",
              "      fill: #D2E3FC;\n",
              "    }\n",
              "\n",
              "    [theme=dark] .colab-df-convert:hover {\n",
              "      background-color: #434B5C;\n",
              "      box-shadow: 0px 1px 3px 1px rgba(0, 0, 0, 0.15);\n",
              "      filter: drop-shadow(0px 1px 2px rgba(0, 0, 0, 0.3));\n",
              "      fill: #FFFFFF;\n",
              "    }\n",
              "  </style>\n",
              "\n",
              "      <script>\n",
              "        const buttonEl =\n",
              "          document.querySelector('#df-50803efd-67fe-443e-bc39-510e750c2bb8 button.colab-df-convert');\n",
              "        buttonEl.style.display =\n",
              "          google.colab.kernel.accessAllowed ? 'block' : 'none';\n",
              "\n",
              "        async function convertToInteractive(key) {\n",
              "          const element = document.querySelector('#df-50803efd-67fe-443e-bc39-510e750c2bb8');\n",
              "          const dataTable =\n",
              "            await google.colab.kernel.invokeFunction('convertToInteractive',\n",
              "                                                     [key], {});\n",
              "          if (!dataTable) return;\n",
              "\n",
              "          const docLinkHtml = 'Like what you see? Visit the ' +\n",
              "            '<a target=\"_blank\" href=https://colab.research.google.com/notebooks/data_table.ipynb>data table notebook</a>'\n",
              "            + ' to learn more about interactive tables.';\n",
              "          element.innerHTML = '';\n",
              "          dataTable['output_type'] = 'display_data';\n",
              "          await google.colab.output.renderOutput(dataTable, element);\n",
              "          const docLink = document.createElement('div');\n",
              "          docLink.innerHTML = docLinkHtml;\n",
              "          element.appendChild(docLink);\n",
              "        }\n",
              "      </script>\n",
              "    </div>\n",
              "  </div>\n",
              "  "
            ]
          },
          "metadata": {},
          "execution_count": 17
        }
      ]
    },
    {
      "cell_type": "code",
      "source": [
        "user.shape"
      ],
      "metadata": {
        "colab": {
          "base_uri": "https://localhost:8080/"
        },
        "id": "pPe6ye7AiFlc",
        "outputId": "5f3f4818-ae8d-4482-b3e2-e22b4eb0c0dd"
      },
      "execution_count": null,
      "outputs": [
        {
          "output_type": "execute_result",
          "data": {
            "text/plain": [
              "(297, 3)"
            ]
          },
          "metadata": {},
          "execution_count": 18
        }
      ]
    },
    {
      "cell_type": "markdown",
      "source": [
        "**EKSPLORASI DATASET**"
      ],
      "metadata": {
        "id": "XKHbw1eNs5c-"
      }
    },
    {
      "cell_type": "markdown",
      "source": [
        "Membuat dataframe berisi lokasi dan membuat visualisasi wisata dengan jumlah rating terbanyak"
      ],
      "metadata": {
        "id": "iic4NWzLFjf_"
      }
    },
    {
      "cell_type": "code",
      "source": [
        "top_10 = rating['Place_Id'].value_counts().reset_index()[0:10]\n",
        "top_10 = pd.merge(top_10, place[['Place_Id','Place_Name']], how='left', left_on='index', right_on='Place_Id')\n",
        "\n",
        "plt.figure(figsize=(8,5))\n",
        "sns.barplot('Place_Id_x', 'Place_Name', data=top_10)\n",
        "plt.title('Jumlah Tempat Wisata dengan Rating Terbanyak', pad=20)\n",
        "plt.ylabel('Jumlah Rating')\n",
        "plt.xlabel('Nama Lokasi')\n",
        "plt.show()"
      ],
      "metadata": {
        "colab": {
          "base_uri": "https://localhost:8080/",
          "height": 369
        },
        "id": "FA-FfIYliJnv",
        "outputId": "4ded0341-fef1-43d6-ecc2-57319bb53f7b"
      },
      "execution_count": null,
      "outputs": [
        {
          "output_type": "display_data",
          "data": {
            "text/plain": [
              "<Figure size 576x360 with 1 Axes>"
            ],
            "image/png": "[encoded data removed]"
          },
          "metadata": {}
        }
      ]
    },
    {
      "cell_type": "markdown",
      "source": [
        "Membuat visualisasi perbandingan jumlah kategori wisata di Kota Semarang"
      ],
      "metadata": {
        "id": "Y6wZijY6GMtM"
      }
    },
    {
      "cell_type": "code",
      "source": [
        "sns.countplot(y='Category', data=place)\n",
        "plt.title('Perbandingan Jumlah Kategori Wisata di Kota Semarang', pad=20)\n",
        "plt.show()"
      ],
      "metadata": {
        "colab": {
          "base_uri": "https://localhost:8080/",
          "height": 315
        },
        "id": "yLmT6qL7iOac",
        "outputId": "1c089975-367a-4917-f680-f4170c21e464"
      },
      "execution_count": null,
      "outputs": [
        {
          "output_type": "display_data",
          "data": {
            "text/plain": [
              "<Figure size 432x288 with 1 Axes>"
            ],
            "image/png": "[encoded data removed]"
          },
          "metadata": {}
        }
      ]
    },
    {
      "cell_type": "markdown",
      "source": [
        "Membuat visualisasi distribusi usia user"
      ],
      "metadata": {
        "id": "O1qp8V5rGV6z"
      }
    },
    {
      "cell_type": "code",
      "source": [
        "plt.figure(figsize=(5,3))\n",
        "sns.boxplot(user['Age']);\n",
        "plt.title('Distribusi Usia User', pad=20)\n",
        "plt.show()"
      ],
      "metadata": {
        "colab": {
          "base_uri": "https://localhost:8080/",
          "height": 260
        },
        "id": "7LJLupdyiT6U",
        "outputId": "1a390c3d-bd7c-42b1-da1c-372cb716a578"
      },
      "execution_count": null,
      "outputs": [
        {
          "output_type": "display_data",
          "data": {
            "text/plain": [
              "<Figure size 360x216 with 1 Axes>"
            ],
            "image/png": "[encoded data removed]"
          },
          "metadata": {}
        }
      ]
    },
    {
      "cell_type": "markdown",
      "source": [
        "Membuat visualisasi distribusi harga masuk tempat wisata"
      ],
      "metadata": {
        "id": "oWT_G5lUGawu"
      }
    },
    {
      "cell_type": "code",
      "source": [
        "plt.figure(figsize=(7,3))\n",
        "sns.boxplot(place['Price'])\n",
        "plt.title('Distribusi Harga Masuk Wisata di Kota Semarang', pad=20)\n",
        "plt.show()\n"
      ],
      "metadata": {
        "colab": {
          "base_uri": "https://localhost:8080/",
          "height": 260
        },
        "id": "gKs-CyENiWjN",
        "outputId": "14fad3a1-c3e2-49e2-e269-9a9e43cc8fb3"
      },
      "execution_count": null,
      "outputs": [
        {
          "output_type": "display_data",
          "data": {
            "text/plain": [
              "<Figure size 504x216 with 1 Axes>"
            ],
            "image/png": "[encoded data removed]"
          },
          "metadata": {}
        }
      ]
    },
    {
      "cell_type": "markdown",
      "source": [
        "Memfilter dan memvisualisasi asal kota user"
      ],
      "metadata": {
        "id": "IYKmB9FdGe15"
      }
    },
    {
      "cell_type": "code",
      "source": [
        "asalkota = user['Location'].apply(lambda x : x.split(',')[0])\n",
        "\n",
        "plt.figure(figsize=(10,7))\n",
        "sns.countplot(y=asalkota)\n",
        "plt.title('Jumlah Asal Kota dari User')\n",
        "plt.show()"
      ],
      "metadata": {
        "colab": {
          "base_uri": "https://localhost:8080/",
          "height": 464
        },
        "id": "_6a5blTjidHC",
        "outputId": "00790d4e-4919-49ad-fba9-6c97166069a9"
      },
      "execution_count": null,
      "outputs": [
        {
          "output_type": "display_data",
          "data": {
            "text/plain": [
              "<Figure size 720x504 with 1 Axes>"
            ],
            "image/png": "[encoded data removed]"
          },
          "metadata": {}
        }
      ]
    },
    {
      "cell_type": "markdown",
      "source": [
        "**MENYIAPKAN DATA UNTUK PEMODALAN**"
      ],
      "metadata": {
        "id": "6Z9FNqj4tEhR"
      }
    },
    {
      "cell_type": "markdown",
      "source": [
        "Membaca dataset untuk dilakukan encoding"
      ],
      "metadata": {
        "id": "PrsRmm-VGnua"
      }
    },
    {
      "cell_type": "code",
      "source": [
        "df = rating.copy()\n",
        "df.head()"
      ],
      "metadata": {
        "colab": {
          "base_uri": "https://localhost:8080/",
          "height": 206
        },
        "id": "A_fjaXaVirp5",
        "outputId": "e70cbbad-54d6-4a14-dc14-48677d62face"
      },
      "execution_count": null,
      "outputs": [
        {
          "output_type": "execute_result",
          "data": {
            "text/plain": [
              "   User_Id  Place_Id  Place_Ratings\n",
              "0        5       335              3\n",
              "1       20       335              4\n",
              "2       41       335              5\n",
              "3       55       335              2\n",
              "4       70       335              3"
            ],
            "text/html": [
              "\n",
              "  <div id=\"df-dd224251-6a2b-41e4-847d-dffedc0d2966\">\n",
              "    <div class=\"colab-df-container\">\n",
              "      <div>\n",
              "<style scoped>\n",
              "    .dataframe tbody tr th:only-of-type {\n",
              "        vertical-align: middle;\n",
              "    }\n",
              "\n",
              "    .dataframe tbody tr th {\n",
              "        vertical-align: top;\n",
              "    }\n",
              "\n",
              "    .dataframe thead th {\n",
              "        text-align: right;\n",
              "    }\n",
              "</style>\n",
              "<table border=\"1\" class=\"dataframe\">\n",
              "  <thead>\n",
              "    <tr style=\"text-align: right;\">\n",
              "      <th></th>\n",
              "      <th>User_Id</th>\n",
              "      <th>Place_Id</th>\n",
              "      <th>Place_Ratings</th>\n",
              "    </tr>\n",
              "  </thead>\n",
              "  <tbody>\n",
              "    <tr>\n",
              "      <th>0</th>\n",
              "      <td>5</td>\n",
              "      <td>335</td>\n",
              "      <td>3</td>\n",
              "    </tr>\n",
              "    <tr>\n",
              "      <th>1</th>\n",
              "      <td>20</td>\n",
              "      <td>335</td>\n",
              "      <td>4</td>\n",
              "    </tr>\n",
              "    <tr>\n",
              "      <th>2</th>\n",
              "      <td>41</td>\n",
              "      <td>335</td>\n",
              "      <td>5</td>\n",
              "    </tr>\n",
              "    <tr>\n",
              "      <th>3</th>\n",
              "      <td>55</td>\n",
              "      <td>335</td>\n",
              "      <td>2</td>\n",
              "    </tr>\n",
              "    <tr>\n",
              "      <th>4</th>\n",
              "      <td>70</td>\n",
              "      <td>335</td>\n",
              "      <td>3</td>\n",
              "    </tr>\n",
              "  </tbody>\n",
              "</table>\n",
              "</div>\n",
              "      <button class=\"colab-df-convert\" onclick=\"convertToInteractive('df-dd224251-6a2b-41e4-847d-dffedc0d2966')\"\n",
              "              title=\"Convert this dataframe to an interactive table.\"\n",
              "              style=\"display:none;\">\n",
              "        \n",
              "  <svg xmlns=\"http://www.w3.org/2000/svg\" height=\"24px\"viewBox=\"0 0 24 24\"\n",
              "       width=\"24px\">\n",
              "    <path d=\"M0 0h24v24H0V0z\" fill=\"none\"/>\n",
              "    <path d=\"M18.56 5.44l.94 2.06.94-2.06 2.06-.94-2.06-.94-.94-2.06-.94 2.06-2.06.94zm-11 1L8.5 8.5l.94-2.06 2.06-.94-2.06-.94L8.5 2.5l-.94 2.06-2.06.94zm10 10l.94 2.06.94-2.06 2.06-.94-2.06-.94-.94-2.06-.94 2.06-2.06.94z\"/><path d=\"M17.41 7.96l-1.37-1.37c-.4-.4-.92-.59-1.43-.59-.52 0-1.04.2-1.43.59L10.3 9.45l-7.72 7.72c-.78.78-.78 2.05 0 2.83L4 21.41c.39.39.9.59 1.41.59.51 0 1.02-.2 1.41-.59l7.78-7.78 2.81-2.81c.8-.78.8-2.07 0-2.86zM5.41 20L4 18.59l7.72-7.72 1.47 1.35L5.41 20z\"/>\n",
              "  </svg>\n",
              "      </button>\n",
              "      \n",
              "  <style>\n",
              "    .colab-df-container {\n",
              "      display:flex;\n",
              "      flex-wrap:wrap;\n",
              "      gap: 12px;\n",
              "    }\n",
              "\n",
              "    .colab-df-convert {\n",
              "      background-color: #E8F0FE;\n",
              "      border: none;\n",
              "      border-radius: 50%;\n",
              "      cursor: pointer;\n",
              "      display: none;\n",
              "      fill: #1967D2;\n",
              "      height: 32px;\n",
              "      padding: 0 0 0 0;\n",
              "      width: 32px;\n",
              "    }\n",
              "\n",
              "    .colab-df-convert:hover {\n",
              "      background-color: #E2EBFA;\n",
              "      box-shadow: 0px 1px 2px rgba(60, 64, 67, 0.3), 0px 1px 3px 1px rgba(60, 64, 67, 0.15);\n",
              "      fill: #174EA6;\n",
              "    }\n",
              "\n",
              "    [theme=dark] .colab-df-convert {\n",
              "      background-color: #3B4455;\n",
              "      fill: #D2E3FC;\n",
              "    }\n",
              "\n",
              "    [theme=dark] .colab-df-convert:hover {\n",
              "      background-color: #434B5C;\n",
              "      box-shadow: 0px 1px 3px 1px rgba(0, 0, 0, 0.15);\n",
              "      filter: drop-shadow(0px 1px 2px rgba(0, 0, 0, 0.3));\n",
              "      fill: #FFFFFF;\n",
              "    }\n",
              "  </style>\n",
              "\n",
              "      <script>\n",
              "        const buttonEl =\n",
              "          document.querySelector('#df-dd224251-6a2b-41e4-847d-dffedc0d2966 button.colab-df-convert');\n",
              "        buttonEl.style.display =\n",
              "          google.colab.kernel.accessAllowed ? 'block' : 'none';\n",
              "\n",
              "        async function convertToInteractive(key) {\n",
              "          const element = document.querySelector('#df-dd224251-6a2b-41e4-847d-dffedc0d2966');\n",
              "          const dataTable =\n",
              "            await google.colab.kernel.invokeFunction('convertToInteractive',\n",
              "                                                     [key], {});\n",
              "          if (!dataTable) return;\n",
              "\n",
              "          const docLinkHtml = 'Like what you see? Visit the ' +\n",
              "            '<a target=\"_blank\" href=https://colab.research.google.com/notebooks/data_table.ipynb>data table notebook</a>'\n",
              "            + ' to learn more about interactive tables.';\n",
              "          element.innerHTML = '';\n",
              "          dataTable['output_type'] = 'display_data';\n",
              "          await google.colab.output.renderOutput(dataTable, element);\n",
              "          const docLink = document.createElement('div');\n",
              "          docLink.innerHTML = docLinkHtml;\n",
              "          element.appendChild(docLink);\n",
              "        }\n",
              "      </script>\n",
              "    </div>\n",
              "  </div>\n",
              "  "
            ]
          },
          "metadata": {},
          "execution_count": 24
        }
      ]
    },
    {
      "cell_type": "markdown",
      "source": [
        "Membuat Fungsi untuk melakukan Encoding"
      ],
      "metadata": {
        "id": "4iGGaiHnGzW7"
      }
    },
    {
      "cell_type": "code",
      "source": [
        "def dict_encoder(col, data=df):\n",
        "\n",
        "  # Mengubah kolom suatu dataframe menjadi list tanpa nilai yang sama\n",
        "  unique_val = data[col].unique().tolist()\n",
        "\n",
        "  # Melakukan encoding value kolom suatu dataframe ke angka\n",
        "  val_to_val_encoded = {x: i for i, x in enumerate(unique_val)}\n",
        "\n",
        "  # Melakukan proses encoding angka ke value dari kolom suatu dataframe\n",
        "  val_encoded_to_val = {i: x for i, x in enumerate(unique_val)}\n",
        "  return val_to_val_encoded, val_encoded_to_val"
      ],
      "metadata": {
        "id": "5bhOmSHGjDxV"
      },
      "execution_count": null,
      "outputs": []
    },
    {
      "cell_type": "markdown",
      "source": [
        "Encoding dan Mapping User_Id ke dataframe"
      ],
      "metadata": {
        "id": "8gEDMXlTHa7P"
      }
    },
    {
      "cell_type": "code",
      "source": [
        "user_to_user_encoded, user_encoded_to_user = dict_encoder('User_Id')\n",
        "\n",
        "df['user'] = df['User_Id'].map(user_to_user_encoded)"
      ],
      "metadata": {
        "id": "x0Lgw0oUjF3i"
      },
      "execution_count": null,
      "outputs": []
    },
    {
      "cell_type": "markdown",
      "source": [
        "Encoding dan Mapping Place_Id ke dataframe place"
      ],
      "metadata": {
        "id": "Z2J6dGzBHlcJ"
      }
    },
    {
      "cell_type": "code",
      "source": [
        "place_to_place_encoded, place_encoded_to_place = dict_encoder('Place_Id')\n",
        "\n",
        "df['place'] = df['Place_Id'].map(place_to_place_encoded)"
      ],
      "metadata": {
        "id": "2XD9-5nujH8v"
      },
      "execution_count": null,
      "outputs": []
    },
    {
      "cell_type": "markdown",
      "source": [
        "Mendapatkan jumlah user, place dan rating"
      ],
      "metadata": {
        "id": "c8UEcOCbHv5s"
      }
    },
    {
      "cell_type": "code",
      "source": [
        "num_users, num_place = len(user_to_user_encoded), len(place_to_place_encoded)\n",
        " \n",
        "df['Place_Ratings'] = df['Place_Ratings'].values.astype(np.float32)\n",
        " \n",
        "min_rating, max_rating = min(df['Place_Ratings']), max(df['Place_Ratings'])\n",
        " \n",
        "print(f'Number of User: {num_users}, Number of Place: {num_place}, Min Rating: {min_rating}, Max Rating: {max_rating}')"
      ],
      "metadata": {
        "colab": {
          "base_uri": "https://localhost:8080/"
        },
        "id": "SpyRfP06jJzC",
        "outputId": "7b8e707d-9c34-4f0a-afab-4df6974a3d88"
      },
      "execution_count": null,
      "outputs": [
        {
          "output_type": "stream",
          "name": "stdout",
          "text": [
            "Number of User: 297, Number of Place: 57, Min Rating: 1.0, Max Rating: 5.0\n"
          ]
        }
      ]
    },
    {
      "cell_type": "markdown",
      "source": [
        "Mengacak dataset"
      ],
      "metadata": {
        "id": "nGHJ0dPaIKGk"
      }
    },
    {
      "cell_type": "code",
      "source": [
        "df = df.sample(frac=1, random_state=42)\n",
        "df.head(5)"
      ],
      "metadata": {
        "colab": {
          "base_uri": "https://localhost:8080/",
          "height": 206
        },
        "id": "WAVBvWg8jLml",
        "outputId": "c1ada124-c7ce-45b4-d959-6003d8c96c6a"
      },
      "execution_count": null,
      "outputs": [
        {
          "output_type": "execute_result",
          "data": {
            "text/plain": [
              "     User_Id  Place_Id  Place_Ratings  user  place\n",
              "261       83       345            4.0   176     10\n",
              "991       47       377            1.0   173     42\n",
              "554      288       358            5.0   225     23\n",
              "49       255       336            5.0    44      1\n",
              "857      238       371            3.0   228     36"
            ],
            "text/html": [
              "\n",
              "  <div id=\"df-a87445b0-3bd9-4fe9-8bde-6c5ab0388892\">\n",
              "    <div class=\"colab-df-container\">\n",
              "      <div>\n",
              "<style scoped>\n",
              "    .dataframe tbody tr th:only-of-type {\n",
              "        vertical-align: middle;\n",
              "    }\n",
              "\n",
              "    .dataframe tbody tr th {\n",
              "        vertical-align: top;\n",
              "    }\n",
              "\n",
              "    .dataframe thead th {\n",
              "        text-align: right;\n",
              "    }\n",
              "</style>\n",
              "<table border=\"1\" class=\"dataframe\">\n",
              "  <thead>\n",
              "    <tr style=\"text-align: right;\">\n",
              "      <th></th>\n",
              "      <th>User_Id</th>\n",
              "      <th>Place_Id</th>\n",
              "      <th>Place_Ratings</th>\n",
              "      <th>user</th>\n",
              "      <th>place</th>\n",
              "    </tr>\n",
              "  </thead>\n",
              "  <tbody>\n",
              "    <tr>\n",
              "      <th>261</th>\n",
              "      <td>83</td>\n",
              "      <td>345</td>\n",
              "      <td>4.0</td>\n",
              "      <td>176</td>\n",
              "      <td>10</td>\n",
              "    </tr>\n",
              "    <tr>\n",
              "      <th>991</th>\n",
              "      <td>47</td>\n",
              "      <td>377</td>\n",
              "      <td>1.0</td>\n",
              "      <td>173</td>\n",
              "      <td>42</td>\n",
              "    </tr>\n",
              "    <tr>\n",
              "      <th>554</th>\n",
              "      <td>288</td>\n",
              "      <td>358</td>\n",
              "      <td>5.0</td>\n",
              "      <td>225</td>\n",
              "      <td>23</td>\n",
              "    </tr>\n",
              "    <tr>\n",
              "      <th>49</th>\n",
              "      <td>255</td>\n",
              "      <td>336</td>\n",
              "      <td>5.0</td>\n",
              "      <td>44</td>\n",
              "      <td>1</td>\n",
              "    </tr>\n",
              "    <tr>\n",
              "      <th>857</th>\n",
              "      <td>238</td>\n",
              "      <td>371</td>\n",
              "      <td>3.0</td>\n",
              "      <td>228</td>\n",
              "      <td>36</td>\n",
              "    </tr>\n",
              "  </tbody>\n",
              "</table>\n",
              "</div>\n",
              "      <button class=\"colab-df-convert\" onclick=\"convertToInteractive('df-a87445b0-3bd9-4fe9-8bde-6c5ab0388892')\"\n",
              "              title=\"Convert this dataframe to an interactive table.\"\n",
              "              style=\"display:none;\">\n",
              "        \n",
              "  <svg xmlns=\"http://www.w3.org/2000/svg\" height=\"24px\"viewBox=\"0 0 24 24\"\n",
              "       width=\"24px\">\n",
              "    <path d=\"M0 0h24v24H0V0z\" fill=\"none\"/>\n",
              "    <path d=\"M18.56 5.44l.94 2.06.94-2.06 2.06-.94-2.06-.94-.94-2.06-.94 2.06-2.06.94zm-11 1L8.5 8.5l.94-2.06 2.06-.94-2.06-.94L8.5 2.5l-.94 2.06-2.06.94zm10 10l.94 2.06.94-2.06 2.06-.94-2.06-.94-.94-2.06-.94 2.06-2.06.94z\"/><path d=\"M17.41 7.96l-1.37-1.37c-.4-.4-.92-.59-1.43-.59-.52 0-1.04.2-1.43.59L10.3 9.45l-7.72 7.72c-.78.78-.78 2.05 0 2.83L4 21.41c.39.39.9.59 1.41.59.51 0 1.02-.2 1.41-.59l7.78-7.78 2.81-2.81c.8-.78.8-2.07 0-2.86zM5.41 20L4 18.59l7.72-7.72 1.47 1.35L5.41 20z\"/>\n",
              "  </svg>\n",
              "      </button>\n",
              "      \n",
              "  <style>\n",
              "    .colab-df-container {\n",
              "      display:flex;\n",
              "      flex-wrap:wrap;\n",
              "      gap: 12px;\n",
              "    }\n",
              "\n",
              "    .colab-df-convert {\n",
              "      background-color: #E8F0FE;\n",
              "      border: none;\n",
              "      border-radius: 50%;\n",
              "      cursor: pointer;\n",
              "      display: none;\n",
              "      fill: #1967D2;\n",
              "      height: 32px;\n",
              "      padding: 0 0 0 0;\n",
              "      width: 32px;\n",
              "    }\n",
              "\n",
              "    .colab-df-convert:hover {\n",
              "      background-color: #E2EBFA;\n",
              "      box-shadow: 0px 1px 2px rgba(60, 64, 67, 0.3), 0px 1px 3px 1px rgba(60, 64, 67, 0.15);\n",
              "      fill: #174EA6;\n",
              "    }\n",
              "\n",
              "    [theme=dark] .colab-df-convert {\n",
              "      background-color: #3B4455;\n",
              "      fill: #D2E3FC;\n",
              "    }\n",
              "\n",
              "    [theme=dark] .colab-df-convert:hover {\n",
              "      background-color: #434B5C;\n",
              "      box-shadow: 0px 1px 3px 1px rgba(0, 0, 0, 0.15);\n",
              "      filter: drop-shadow(0px 1px 2px rgba(0, 0, 0, 0.3));\n",
              "      fill: #FFFFFF;\n",
              "    }\n",
              "  </style>\n",
              "\n",
              "      <script>\n",
              "        const buttonEl =\n",
              "          document.querySelector('#df-a87445b0-3bd9-4fe9-8bde-6c5ab0388892 button.colab-df-convert');\n",
              "        buttonEl.style.display =\n",
              "          google.colab.kernel.accessAllowed ? 'block' : 'none';\n",
              "\n",
              "        async function convertToInteractive(key) {\n",
              "          const element = document.querySelector('#df-a87445b0-3bd9-4fe9-8bde-6c5ab0388892');\n",
              "          const dataTable =\n",
              "            await google.colab.kernel.invokeFunction('convertToInteractive',\n",
              "                                                     [key], {});\n",
              "          if (!dataTable) return;\n",
              "\n",
              "          const docLinkHtml = 'Like what you see? Visit the ' +\n",
              "            '<a target=\"_blank\" href=https://colab.research.google.com/notebooks/data_table.ipynb>data table notebook</a>'\n",
              "            + ' to learn more about interactive tables.';\n",
              "          element.innerHTML = '';\n",
              "          dataTable['output_type'] = 'display_data';\n",
              "          await google.colab.output.renderOutput(dataTable, element);\n",
              "          const docLink = document.createElement('div');\n",
              "          docLink.innerHTML = docLinkHtml;\n",
              "          element.appendChild(docLink);\n",
              "        }\n",
              "      </script>\n",
              "    </div>\n",
              "  </div>\n",
              "  "
            ]
          },
          "metadata": {},
          "execution_count": 29
        }
      ]
    },
    {
      "cell_type": "markdown",
      "source": [
        "**PEMODELAN MACHINE LEARNING DENGAN RECOMMENDERNET**"
      ],
      "metadata": {
        "id": "uZYx1_1JtQEU"
      }
    },
    {
      "cell_type": "markdown",
      "source": [
        "Membagi data train dan data test"
      ],
      "metadata": {
        "id": "T6NwOR_6ISEi"
      }
    },
    {
      "cell_type": "code",
      "source": [
        "x = df[['user', 'place']].values\n",
        " \n",
        "# Membuat variabel y untuk membuat rating dari hasil \n",
        "y = df['Place_Ratings'].apply(lambda x: (x - min_rating) / (max_rating - min_rating)).values\n",
        " \n",
        "# Membagi menjadi 80% data train dan 20% data validasi\n",
        "train_indices = int(0.8 * df.shape[0])\n",
        "x_train, x_val, y_train, y_val = (\n",
        "    x[:train_indices],\n",
        "    x[train_indices:],\n",
        "    y[:train_indices],\n",
        "    y[train_indices:]\n",
        ")"
      ],
      "metadata": {
        "id": "Whpe-UOQjO8y"
      },
      "execution_count": null,
      "outputs": []
    },
    {
      "cell_type": "markdown",
      "source": [
        "Inisialisasi Fungsi"
      ],
      "metadata": {
        "id": "yPuYvndAIqXP"
      }
    },
    {
      "cell_type": "code",
      "source": [
        "class RecommenderNet(tf.keras.Model):\n",
        " \n",
        "  # Insialisasi fungsi\n",
        "  def __init__(self, num_users, num_places, embedding_size, **kwargs):\n",
        "    super(RecommenderNet, self).__init__(**kwargs)\n",
        "    self.num_users = num_users\n",
        "    self.num_places = num_places\n",
        "    self.embedding_size = embedding_size\n",
        "    self.user_embedding = layers.Embedding( # layer embedding user\n",
        "        num_users,\n",
        "        embedding_size,\n",
        "        embeddings_initializer = 'he_normal',\n",
        "        embeddings_regularizer = keras.regularizers.l2(1e-6)\n",
        "    )\n",
        "    self.user_bias = layers.Embedding(num_users, 1) # layer embedding user bias\n",
        "    self.places_embedding = layers.Embedding( # layer embeddings places\n",
        "        num_places,\n",
        "        embedding_size,\n",
        "        embeddings_initializer = 'he_normal',\n",
        "        embeddings_regularizer = keras.regularizers.l2(1e-6)\n",
        "    )\n",
        "    self.places_bias = layers.Embedding(num_places, 1) # layer embedding places bias\n",
        " \n",
        "  def call(self, inputs):\n",
        "    user_vector = self.user_embedding(inputs[:,0]) # memanggil layer embedding 1\n",
        "    user_bias = self.user_bias(inputs[:, 0]) # memanggil layer embedding 2\n",
        "    places_vector = self.places_embedding(inputs[:, 1]) # memanggil layer embedding 3\n",
        "    places_bias = self.places_bias(inputs[:, 1]) # memanggil layer embedding 4\n",
        " \n",
        "    dot_user_places = tf.tensordot(user_vector, places_vector, 2) \n",
        " \n",
        "    x = dot_user_places + user_bias + places_bias\n",
        "    \n",
        "    return tf.nn.sigmoid(x) # activation sigmoid"
      ],
      "metadata": {
        "id": "exThUYWgjRJl"
      },
      "execution_count": null,
      "outputs": []
    },
    {
      "cell_type": "markdown",
      "source": [
        "Inisialisasi Model"
      ],
      "metadata": {
        "id": "E4iSXFKAI7fl"
      }
    },
    {
      "cell_type": "code",
      "source": [
        "model = RecommenderNet(num_users, num_place, 50) # inisialisasi model\n",
        " \n",
        "# model compile\n",
        "model.compile(\n",
        "    loss = tf.keras.losses.BinaryCrossentropy(),\n",
        "    optimizer = keras.optimizers.Adam(learning_rate=0.0004),\n",
        "    metrics=[tf.keras.metrics.RootMeanSquaredError()]\n",
        ")"
      ],
      "metadata": {
        "id": "1EK9O_ELjWi3"
      },
      "execution_count": null,
      "outputs": []
    },
    {
      "cell_type": "markdown",
      "source": [
        "Inisialisasi Callback"
      ],
      "metadata": {
        "id": "fHgynuX9JFE0"
      }
    },
    {
      "cell_type": "code",
      "source": [
        " class myCallback(tf.keras.callbacks.Callback):\n",
        "  def on_epoch_end(self, epoch, logs={}):\n",
        "    if(logs.get('val_root_mean_squared_error')<0.25):\n",
        "      print('Lapor! Metriks validasi sudah sesuai harapan')\n",
        "      self.model.stop_training = True"
      ],
      "metadata": {
        "id": "CsO0vHgEjvL5"
      },
      "execution_count": null,
      "outputs": []
    },
    {
      "cell_type": "markdown",
      "source": [
        "Memulai training"
      ],
      "metadata": {
        "id": "yPMWzbCDJCWp"
      }
    },
    {
      "cell_type": "code",
      "source": [
        "# Memulai training \n",
        "history = model.fit(\n",
        "    x = x_train,\n",
        "    y = y_train,\n",
        "    epochs = 100,\n",
        "    validation_data = (x_val, y_val),\n",
        "    callbacks = [myCallback()]\n",
        ")"
      ],
      "metadata": {
        "colab": {
          "base_uri": "https://localhost:8080/"
        },
        "id": "cH92Vq4Aj0b5",
        "outputId": "8a2c22af-4dee-409b-9f58-85bc7f51518f"
      },
      "execution_count": null,
      "outputs": [
        {
          "output_type": "stream",
          "name": "stdout",
          "text": [
            "Epoch 1/100\n",
            "33/33 [==============================] - 2s 13ms/step - loss: 0.7615 - root_mean_squared_error: 0.3845 - val_loss: 0.7536 - val_root_mean_squared_error: 0.3810\n",
            "Epoch 2/100\n",
            "33/33 [==============================] - 0s 4ms/step - loss: 0.7174 - root_mean_squared_error: 0.3611 - val_loss: 0.7540 - val_root_mean_squared_error: 0.3812\n",
            "Epoch 3/100\n",
            "33/33 [==============================] - 0s 4ms/step - loss: 0.7210 - root_mean_squared_error: 0.3634 - val_loss: 0.7542 - val_root_mean_squared_error: 0.3814\n",
            "Epoch 4/100\n",
            "33/33 [==============================] - 0s 6ms/step - loss: 0.7322 - root_mean_squared_error: 0.3703 - val_loss: 0.7533 - val_root_mean_squared_error: 0.3810\n",
            "Epoch 5/100\n",
            "33/33 [==============================] - 0s 6ms/step - loss: 0.7435 - root_mean_squared_error: 0.3756 - val_loss: 0.7534 - val_root_mean_squared_error: 0.3809\n",
            "Epoch 6/100\n",
            "33/33 [==============================] - 0s 6ms/step - loss: 0.7233 - root_mean_squared_error: 0.3644 - val_loss: 0.7530 - val_root_mean_squared_error: 0.3808\n",
            "Epoch 7/100\n",
            "33/33 [==============================] - 0s 8ms/step - loss: 0.7267 - root_mean_squared_error: 0.3664 - val_loss: 0.7523 - val_root_mean_squared_error: 0.3805\n",
            "Epoch 8/100\n",
            "33/33 [==============================] - 0s 7ms/step - loss: 0.7228 - root_mean_squared_error: 0.3639 - val_loss: 0.7530 - val_root_mean_squared_error: 0.3808\n",
            "Epoch 9/100\n",
            "33/33 [==============================] - 0s 7ms/step - loss: 0.7294 - root_mean_squared_error: 0.3686 - val_loss: 0.7528 - val_root_mean_squared_error: 0.3807\n",
            "Epoch 10/100\n",
            "33/33 [==============================] - 0s 7ms/step - loss: 0.7122 - root_mean_squared_error: 0.3581 - val_loss: 0.7536 - val_root_mean_squared_error: 0.3811\n",
            "Epoch 11/100\n",
            "33/33 [==============================] - 0s 8ms/step - loss: 0.7153 - root_mean_squared_error: 0.3598 - val_loss: 0.7537 - val_root_mean_squared_error: 0.3812\n",
            "Epoch 12/100\n",
            "33/33 [==============================] - 0s 7ms/step - loss: 0.7243 - root_mean_squared_error: 0.3652 - val_loss: 0.7546 - val_root_mean_squared_error: 0.3818\n",
            "Epoch 13/100\n",
            "33/33 [==============================] - 0s 7ms/step - loss: 0.7225 - root_mean_squared_error: 0.3635 - val_loss: 0.7538 - val_root_mean_squared_error: 0.3815\n",
            "Epoch 14/100\n",
            "33/33 [==============================] - 0s 9ms/step - loss: 0.7046 - root_mean_squared_error: 0.3524 - val_loss: 0.7548 - val_root_mean_squared_error: 0.3820\n",
            "Epoch 15/100\n",
            "33/33 [==============================] - 0s 10ms/step - loss: 0.7106 - root_mean_squared_error: 0.3568 - val_loss: 0.7552 - val_root_mean_squared_error: 0.3822\n",
            "Epoch 16/100\n",
            "33/33 [==============================] - 0s 7ms/step - loss: 0.7160 - root_mean_squared_error: 0.3597 - val_loss: 0.7550 - val_root_mean_squared_error: 0.3821\n",
            "Epoch 17/100\n",
            "33/33 [==============================] - 0s 9ms/step - loss: 0.7059 - root_mean_squared_error: 0.3540 - val_loss: 0.7557 - val_root_mean_squared_error: 0.3825\n",
            "Epoch 18/100\n",
            "33/33 [==============================] - 0s 7ms/step - loss: 0.7059 - root_mean_squared_error: 0.3538 - val_loss: 0.7544 - val_root_mean_squared_error: 0.3818\n",
            "Epoch 19/100\n",
            "33/33 [==============================] - 0s 6ms/step - loss: 0.6983 - root_mean_squared_error: 0.3487 - val_loss: 0.7535 - val_root_mean_squared_error: 0.3814\n",
            "Epoch 20/100\n",
            "33/33 [==============================] - 0s 7ms/step - loss: 0.7046 - root_mean_squared_error: 0.3530 - val_loss: 0.7521 - val_root_mean_squared_error: 0.3806\n",
            "Epoch 21/100\n",
            "33/33 [==============================] - 0s 9ms/step - loss: 0.7047 - root_mean_squared_error: 0.3529 - val_loss: 0.7521 - val_root_mean_squared_error: 0.3806\n",
            "Epoch 22/100\n",
            "33/33 [==============================] - 0s 8ms/step - loss: 0.7023 - root_mean_squared_error: 0.3511 - val_loss: 0.7517 - val_root_mean_squared_error: 0.3804\n",
            "Epoch 23/100\n",
            "33/33 [==============================] - 0s 8ms/step - loss: 0.7067 - root_mean_squared_error: 0.3540 - val_loss: 0.7503 - val_root_mean_squared_error: 0.3798\n",
            "Epoch 24/100\n",
            "33/33 [==============================] - 0s 10ms/step - loss: 0.7092 - root_mean_squared_error: 0.3558 - val_loss: 0.7497 - val_root_mean_squared_error: 0.3795\n",
            "Epoch 25/100\n",
            "33/33 [==============================] - 0s 10ms/step - loss: 0.7069 - root_mean_squared_error: 0.3546 - val_loss: 0.7497 - val_root_mean_squared_error: 0.3796\n",
            "Epoch 26/100\n",
            "33/33 [==============================] - 0s 9ms/step - loss: 0.6984 - root_mean_squared_error: 0.3488 - val_loss: 0.7509 - val_root_mean_squared_error: 0.3804\n",
            "Epoch 27/100\n",
            "33/33 [==============================] - 0s 15ms/step - loss: 0.6887 - root_mean_squared_error: 0.3421 - val_loss: 0.7509 - val_root_mean_squared_error: 0.3804\n",
            "Epoch 28/100\n",
            "33/33 [==============================] - 0s 9ms/step - loss: 0.6865 - root_mean_squared_error: 0.3404 - val_loss: 0.7506 - val_root_mean_squared_error: 0.3803\n",
            "Epoch 29/100\n",
            "33/33 [==============================] - 0s 7ms/step - loss: 0.6937 - root_mean_squared_error: 0.3454 - val_loss: 0.7519 - val_root_mean_squared_error: 0.3810\n",
            "Epoch 30/100\n",
            "33/33 [==============================] - 0s 8ms/step - loss: 0.7000 - root_mean_squared_error: 0.3499 - val_loss: 0.7512 - val_root_mean_squared_error: 0.3807\n",
            "Epoch 31/100\n",
            "33/33 [==============================] - 0s 10ms/step - loss: 0.6971 - root_mean_squared_error: 0.3478 - val_loss: 0.7503 - val_root_mean_squared_error: 0.3802\n",
            "Epoch 32/100\n",
            "33/33 [==============================] - 0s 9ms/step - loss: 0.6928 - root_mean_squared_error: 0.3450 - val_loss: 0.7504 - val_root_mean_squared_error: 0.3803\n",
            "Epoch 33/100\n",
            "33/33 [==============================] - 0s 10ms/step - loss: 0.6900 - root_mean_squared_error: 0.3428 - val_loss: 0.7502 - val_root_mean_squared_error: 0.3801\n",
            "Epoch 34/100\n",
            "33/33 [==============================] - 0s 8ms/step - loss: 0.6907 - root_mean_squared_error: 0.3435 - val_loss: 0.7511 - val_root_mean_squared_error: 0.3806\n",
            "Epoch 35/100\n",
            "33/33 [==============================] - 0s 10ms/step - loss: 0.6850 - root_mean_squared_error: 0.3395 - val_loss: 0.7518 - val_root_mean_squared_error: 0.3810\n",
            "Epoch 36/100\n",
            "33/33 [==============================] - 0s 8ms/step - loss: 0.6986 - root_mean_squared_error: 0.3487 - val_loss: 0.7527 - val_root_mean_squared_error: 0.3815\n",
            "Epoch 37/100\n",
            "33/33 [==============================] - 0s 5ms/step - loss: 0.6897 - root_mean_squared_error: 0.3426 - val_loss: 0.7521 - val_root_mean_squared_error: 0.3812\n",
            "Epoch 38/100\n",
            "33/33 [==============================] - 0s 7ms/step - loss: 0.6921 - root_mean_squared_error: 0.3444 - val_loss: 0.7517 - val_root_mean_squared_error: 0.3810\n",
            "Epoch 39/100\n",
            "33/33 [==============================] - 0s 8ms/step - loss: 0.6976 - root_mean_squared_error: 0.3484 - val_loss: 0.7516 - val_root_mean_squared_error: 0.3810\n",
            "Epoch 40/100\n",
            "33/33 [==============================] - 0s 6ms/step - loss: 0.6890 - root_mean_squared_error: 0.3423 - val_loss: 0.7511 - val_root_mean_squared_error: 0.3806\n",
            "Epoch 41/100\n",
            "33/33 [==============================] - 0s 7ms/step - loss: 0.6906 - root_mean_squared_error: 0.3434 - val_loss: 0.7523 - val_root_mean_squared_error: 0.3814\n",
            "Epoch 42/100\n",
            "33/33 [==============================] - 0s 6ms/step - loss: 0.6819 - root_mean_squared_error: 0.3372 - val_loss: 0.7527 - val_root_mean_squared_error: 0.3816\n",
            "Epoch 43/100\n",
            "33/33 [==============================] - 0s 6ms/step - loss: 0.6901 - root_mean_squared_error: 0.3430 - val_loss: 0.7544 - val_root_mean_squared_error: 0.3825\n",
            "Epoch 44/100\n",
            "33/33 [==============================] - 0s 5ms/step - loss: 0.6832 - root_mean_squared_error: 0.3382 - val_loss: 0.7557 - val_root_mean_squared_error: 0.3832\n",
            "Epoch 45/100\n",
            "33/33 [==============================] - 0s 7ms/step - loss: 0.6811 - root_mean_squared_error: 0.3366 - val_loss: 0.7550 - val_root_mean_squared_error: 0.3828\n",
            "Epoch 46/100\n",
            "33/33 [==============================] - 0s 9ms/step - loss: 0.6922 - root_mean_squared_error: 0.3443 - val_loss: 0.7558 - val_root_mean_squared_error: 0.3833\n",
            "Epoch 47/100\n",
            "33/33 [==============================] - 0s 9ms/step - loss: 0.6779 - root_mean_squared_error: 0.3343 - val_loss: 0.7553 - val_root_mean_squared_error: 0.3832\n",
            "Epoch 48/100\n",
            "33/33 [==============================] - 0s 10ms/step - loss: 0.6777 - root_mean_squared_error: 0.3343 - val_loss: 0.7552 - val_root_mean_squared_error: 0.3830\n",
            "Epoch 49/100\n",
            "33/33 [==============================] - 0s 6ms/step - loss: 0.6791 - root_mean_squared_error: 0.3352 - val_loss: 0.7563 - val_root_mean_squared_error: 0.3836\n",
            "Epoch 50/100\n",
            "33/33 [==============================] - 0s 8ms/step - loss: 0.6809 - root_mean_squared_error: 0.3364 - val_loss: 0.7567 - val_root_mean_squared_error: 0.3839\n",
            "Epoch 51/100\n",
            "33/33 [==============================] - 0s 9ms/step - loss: 0.6784 - root_mean_squared_error: 0.3347 - val_loss: 0.7567 - val_root_mean_squared_error: 0.3839\n",
            "Epoch 52/100\n",
            "33/33 [==============================] - 0s 7ms/step - loss: 0.6818 - root_mean_squared_error: 0.3371 - val_loss: 0.7575 - val_root_mean_squared_error: 0.3844\n",
            "Epoch 53/100\n",
            "33/33 [==============================] - 0s 9ms/step - loss: 0.6816 - root_mean_squared_error: 0.3367 - val_loss: 0.7592 - val_root_mean_squared_error: 0.3853\n",
            "Epoch 54/100\n",
            "33/33 [==============================] - 0s 9ms/step - loss: 0.6805 - root_mean_squared_error: 0.3359 - val_loss: 0.7597 - val_root_mean_squared_error: 0.3857\n",
            "Epoch 55/100\n",
            "33/33 [==============================] - 0s 8ms/step - loss: 0.6769 - root_mean_squared_error: 0.3335 - val_loss: 0.7582 - val_root_mean_squared_error: 0.3848\n",
            "Epoch 56/100\n",
            "33/33 [==============================] - 0s 9ms/step - loss: 0.6752 - root_mean_squared_error: 0.3325 - val_loss: 0.7583 - val_root_mean_squared_error: 0.3849\n",
            "Epoch 57/100\n",
            "33/33 [==============================] - 0s 7ms/step - loss: 0.6765 - root_mean_squared_error: 0.3333 - val_loss: 0.7570 - val_root_mean_squared_error: 0.3842\n",
            "Epoch 58/100\n",
            "33/33 [==============================] - 0s 7ms/step - loss: 0.6731 - root_mean_squared_error: 0.3309 - val_loss: 0.7551 - val_root_mean_squared_error: 0.3831\n",
            "Epoch 59/100\n",
            "33/33 [==============================] - 0s 8ms/step - loss: 0.6715 - root_mean_squared_error: 0.3296 - val_loss: 0.7561 - val_root_mean_squared_error: 0.3837\n",
            "Epoch 60/100\n",
            "33/33 [==============================] - 0s 7ms/step - loss: 0.6712 - root_mean_squared_error: 0.3293 - val_loss: 0.7560 - val_root_mean_squared_error: 0.3836\n",
            "Epoch 61/100\n",
            "33/33 [==============================] - 0s 7ms/step - loss: 0.6716 - root_mean_squared_error: 0.3297 - val_loss: 0.7558 - val_root_mean_squared_error: 0.3836\n",
            "Epoch 62/100\n",
            "33/33 [==============================] - 0s 10ms/step - loss: 0.6747 - root_mean_squared_error: 0.3320 - val_loss: 0.7540 - val_root_mean_squared_error: 0.3826\n",
            "Epoch 63/100\n",
            "33/33 [==============================] - 0s 9ms/step - loss: 0.6717 - root_mean_squared_error: 0.3297 - val_loss: 0.7532 - val_root_mean_squared_error: 0.3822\n",
            "Epoch 64/100\n",
            "33/33 [==============================] - 0s 7ms/step - loss: 0.6683 - root_mean_squared_error: 0.3274 - val_loss: 0.7523 - val_root_mean_squared_error: 0.3817\n",
            "Epoch 65/100\n",
            "33/33 [==============================] - 0s 9ms/step - loss: 0.6708 - root_mean_squared_error: 0.3290 - val_loss: 0.7524 - val_root_mean_squared_error: 0.3817\n",
            "Epoch 66/100\n",
            "33/33 [==============================] - 0s 9ms/step - loss: 0.6692 - root_mean_squared_error: 0.3280 - val_loss: 0.7517 - val_root_mean_squared_error: 0.3813\n",
            "Epoch 67/100\n",
            "33/33 [==============================] - 0s 8ms/step - loss: 0.6696 - root_mean_squared_error: 0.3282 - val_loss: 0.7515 - val_root_mean_squared_error: 0.3812\n",
            "Epoch 68/100\n",
            "33/33 [==============================] - 0s 7ms/step - loss: 0.6703 - root_mean_squared_error: 0.3287 - val_loss: 0.7516 - val_root_mean_squared_error: 0.3813\n",
            "Epoch 69/100\n",
            "33/33 [==============================] - 0s 9ms/step - loss: 0.6699 - root_mean_squared_error: 0.3285 - val_loss: 0.7512 - val_root_mean_squared_error: 0.3810\n",
            "Epoch 70/100\n",
            "33/33 [==============================] - 0s 10ms/step - loss: 0.6688 - root_mean_squared_error: 0.3276 - val_loss: 0.7517 - val_root_mean_squared_error: 0.3813\n",
            "Epoch 71/100\n",
            "33/33 [==============================] - 0s 8ms/step - loss: 0.6645 - root_mean_squared_error: 0.3244 - val_loss: 0.7531 - val_root_mean_squared_error: 0.3821\n",
            "Epoch 72/100\n",
            "33/33 [==============================] - 0s 8ms/step - loss: 0.6628 - root_mean_squared_error: 0.3232 - val_loss: 0.7530 - val_root_mean_squared_error: 0.3820\n",
            "Epoch 73/100\n",
            "33/33 [==============================] - 0s 7ms/step - loss: 0.6643 - root_mean_squared_error: 0.3242 - val_loss: 0.7526 - val_root_mean_squared_error: 0.3818\n",
            "Epoch 74/100\n",
            "33/33 [==============================] - 0s 9ms/step - loss: 0.6667 - root_mean_squared_error: 0.3260 - val_loss: 0.7522 - val_root_mean_squared_error: 0.3816\n",
            "Epoch 75/100\n",
            "33/33 [==============================] - 0s 7ms/step - loss: 0.6641 - root_mean_squared_error: 0.3242 - val_loss: 0.7514 - val_root_mean_squared_error: 0.3811\n",
            "Epoch 76/100\n",
            "33/33 [==============================] - 0s 6ms/step - loss: 0.6683 - root_mean_squared_error: 0.3272 - val_loss: 0.7509 - val_root_mean_squared_error: 0.3808\n",
            "Epoch 77/100\n",
            "33/33 [==============================] - 0s 8ms/step - loss: 0.6643 - root_mean_squared_error: 0.3243 - val_loss: 0.7512 - val_root_mean_squared_error: 0.3810\n",
            "Epoch 78/100\n",
            "33/33 [==============================] - 0s 8ms/step - loss: 0.6642 - root_mean_squared_error: 0.3241 - val_loss: 0.7513 - val_root_mean_squared_error: 0.3810\n",
            "Epoch 79/100\n",
            "33/33 [==============================] - 0s 7ms/step - loss: 0.6639 - root_mean_squared_error: 0.3240 - val_loss: 0.7516 - val_root_mean_squared_error: 0.3813\n",
            "Epoch 80/100\n",
            "33/33 [==============================] - 0s 6ms/step - loss: 0.6649 - root_mean_squared_error: 0.3248 - val_loss: 0.7498 - val_root_mean_squared_error: 0.3803\n",
            "Epoch 81/100\n",
            "33/33 [==============================] - 0s 9ms/step - loss: 0.6591 - root_mean_squared_error: 0.3203 - val_loss: 0.7496 - val_root_mean_squared_error: 0.3801\n",
            "Epoch 82/100\n",
            "33/33 [==============================] - 0s 11ms/step - loss: 0.6620 - root_mean_squared_error: 0.3225 - val_loss: 0.7502 - val_root_mean_squared_error: 0.3804\n",
            "Epoch 83/100\n",
            "33/33 [==============================] - 0s 7ms/step - loss: 0.6626 - root_mean_squared_error: 0.3229 - val_loss: 0.7506 - val_root_mean_squared_error: 0.3807\n",
            "Epoch 84/100\n",
            "33/33 [==============================] - 0s 8ms/step - loss: 0.6620 - root_mean_squared_error: 0.3225 - val_loss: 0.7506 - val_root_mean_squared_error: 0.3807\n",
            "Epoch 85/100\n",
            "33/33 [==============================] - 0s 6ms/step - loss: 0.6631 - root_mean_squared_error: 0.3234 - val_loss: 0.7499 - val_root_mean_squared_error: 0.3803\n",
            "Epoch 86/100\n",
            "33/33 [==============================] - 0s 6ms/step - loss: 0.6615 - root_mean_squared_error: 0.3222 - val_loss: 0.7500 - val_root_mean_squared_error: 0.3803\n",
            "Epoch 87/100\n",
            "33/33 [==============================] - 0s 6ms/step - loss: 0.6586 - root_mean_squared_error: 0.3199 - val_loss: 0.7494 - val_root_mean_squared_error: 0.3799\n",
            "Epoch 88/100\n",
            "33/33 [==============================] - 0s 7ms/step - loss: 0.6580 - root_mean_squared_error: 0.3195 - val_loss: 0.7501 - val_root_mean_squared_error: 0.3803\n",
            "Epoch 89/100\n",
            "33/33 [==============================] - 0s 8ms/step - loss: 0.6591 - root_mean_squared_error: 0.3203 - val_loss: 0.7499 - val_root_mean_squared_error: 0.3802\n",
            "Epoch 90/100\n",
            "33/33 [==============================] - 0s 7ms/step - loss: 0.6556 - root_mean_squared_error: 0.3176 - val_loss: 0.7496 - val_root_mean_squared_error: 0.3801\n",
            "Epoch 91/100\n",
            "33/33 [==============================] - 0s 8ms/step - loss: 0.6591 - root_mean_squared_error: 0.3203 - val_loss: 0.7495 - val_root_mean_squared_error: 0.3800\n",
            "Epoch 92/100\n",
            "33/33 [==============================] - 0s 12ms/step - loss: 0.6582 - root_mean_squared_error: 0.3196 - val_loss: 0.7493 - val_root_mean_squared_error: 0.3799\n",
            "Epoch 93/100\n",
            "33/33 [==============================] - 0s 7ms/step - loss: 0.6563 - root_mean_squared_error: 0.3183 - val_loss: 0.7496 - val_root_mean_squared_error: 0.3801\n",
            "Epoch 94/100\n",
            "33/33 [==============================] - 0s 11ms/step - loss: 0.6567 - root_mean_squared_error: 0.3185 - val_loss: 0.7508 - val_root_mean_squared_error: 0.3807\n",
            "Epoch 95/100\n",
            "33/33 [==============================] - 0s 14ms/step - loss: 0.6584 - root_mean_squared_error: 0.3197 - val_loss: 0.7511 - val_root_mean_squared_error: 0.3808\n",
            "Epoch 96/100\n",
            "33/33 [==============================] - 0s 10ms/step - loss: 0.6571 - root_mean_squared_error: 0.3190 - val_loss: 0.7500 - val_root_mean_squared_error: 0.3802\n",
            "Epoch 97/100\n",
            "33/33 [==============================] - 0s 11ms/step - loss: 0.6583 - root_mean_squared_error: 0.3197 - val_loss: 0.7486 - val_root_mean_squared_error: 0.3795\n",
            "Epoch 98/100\n",
            "33/33 [==============================] - 0s 7ms/step - loss: 0.6568 - root_mean_squared_error: 0.3186 - val_loss: 0.7483 - val_root_mean_squared_error: 0.3793\n",
            "Epoch 99/100\n",
            "33/33 [==============================] - 0s 6ms/step - loss: 0.6595 - root_mean_squared_error: 0.3205 - val_loss: 0.7490 - val_root_mean_squared_error: 0.3797\n",
            "Epoch 100/100\n",
            "33/33 [==============================] - 0s 7ms/step - loss: 0.6571 - root_mean_squared_error: 0.3188 - val_loss: 0.7478 - val_root_mean_squared_error: 0.3791\n"
          ]
        }
      ]
    },
    {
      "cell_type": "markdown",
      "source": [
        "Menampilkan plot loss dan validation"
      ],
      "metadata": {
        "id": "Te7pAZQiJfZ9"
      }
    },
    {
      "cell_type": "code",
      "source": [
        "# Menampilkan plot loss dan validation\n",
        "\n",
        "plt.plot(history.history['root_mean_squared_error'])\n",
        "plt.plot(history.history['val_root_mean_squared_error'])\n",
        "plt.title('model_metrics')\n",
        "plt.ylabel('root_mean_squared_error')\n",
        "plt.xlabel('epoch')\n",
        "plt.ylim(ymin=0, ymax=0.4)\n",
        "plt.legend(['train', 'test'], loc='center left')\n",
        "plt.show()"
      ],
      "metadata": {
        "colab": {
          "base_uri": "https://localhost:8080/",
          "height": 301
        },
        "id": "LwGwVEeZj3NY",
        "outputId": "59582547-681b-4502-862a-82ccd44e6cfc"
      },
      "execution_count": null,
      "outputs": [
        {
          "output_type": "display_data",
          "data": {
            "text/plain": [
              "<Figure size 432x288 with 1 Axes>"
            ],
            "image/png": "[encoded data removed]"
          },
          "metadata": {}
        }
      ]
    },
    {
      "cell_type": "markdown",
      "source": [
        "**MEMPREDIKSI 5 TERATAS REKOMENDASI**"
      ],
      "metadata": {
        "id": "j2Q3MyQmterW"
      }
    },
    {
      "cell_type": "markdown",
      "source": [
        "Menyiapkan dataframe"
      ],
      "metadata": {
        "id": "5mWc7e-BJjOj"
      }
    },
    {
      "cell_type": "code",
      "source": [
        "place_df = place[['Place_Id','Place_Name','Category','Rating','Price']]\n",
        "place_df.columns = ['id','place_name','category','rating','price']\n",
        "df = rating.copy()"
      ],
      "metadata": {
        "id": "d9RaiB7Lj-Qt"
      },
      "execution_count": null,
      "outputs": []
    },
    {
      "cell_type": "markdown",
      "source": [
        "Mengambil sample user"
      ],
      "metadata": {
        "id": "I67BdenkJlu_"
      }
    },
    {
      "cell_type": "code",
      "source": [
        "user_id = df.User_Id.sample(1).iloc[0]\n",
        "place_visited_by_user = df[df.User_Id == user_id]"
      ],
      "metadata": {
        "id": "_hwGUNwzkEk2"
      },
      "execution_count": null,
      "outputs": []
    },
    {
      "cell_type": "markdown",
      "source": [
        "Membuat data lokasi yang belum dikunjungi user"
      ],
      "metadata": {
        "id": "KOWdHgRSJoVH"
      }
    },
    {
      "cell_type": "code",
      "source": [
        "place_not_visited = place_df[~place_df['id'].isin(place_visited_by_user.Place_Id.values)]['id'] \n",
        "place_not_visited = list(\n",
        "    set(place_not_visited)\n",
        "    .intersection(set(place_to_place_encoded.keys()))\n",
        ")\n",
        " \n",
        "place_not_visited = [[place_to_place_encoded.get(x)] for x in place_not_visited]\n",
        "user_encoder = user_to_user_encoded.get(user_id)\n",
        "user_place_array = np.hstack(\n",
        "    ([[user_encoder]] * len(place_not_visited), place_not_visited)\n",
        ")"
      ],
      "metadata": {
        "id": "bxrtmgymkGxa"
      },
      "execution_count": null,
      "outputs": []
    },
    {
      "cell_type": "markdown",
      "source": [
        "Mengambil top 5 rekomendasi"
      ],
      "metadata": {
        "id": "3WGKmpkXJ16t"
      }
    },
    {
      "cell_type": "code",
      "source": [
        "ratings = model.predict(user_place_array).flatten()\n",
        "top_ratings_indices = ratings.argsort()[-5:][::-1]\n",
        "recommended_place_ids = [\n",
        "    place_encoded_to_place.get(place_not_visited[x][0]) for x in top_ratings_indices\n",
        "]\n",
        " \n",
        "print('Daftar rekomendasi untuk: {}'.format('User ' + str(user_id)))\n",
        "print('===' * 15,'\\n')\n",
        "print('----' * 15)\n",
        "print('Tempat dengan rating wisata paling tinggi dari user')\n",
        "print('----' * 15)\n",
        " \n",
        "top_place_user = (\n",
        "    place_visited_by_user.sort_values(\n",
        "        by = 'Place_Ratings',\n",
        "        ascending=False\n",
        "    )\n",
        "    .head(5)\n",
        "    .Place_Id.values\n",
        ")\n",
        " \n",
        "place_df_rows = place_df[place_df['id'].isin(top_place_user)]\n",
        "for row in place_df_rows.itertuples():\n",
        "    print(row.place_name, ':', row.category)\n",
        "\n",
        "print('')\n",
        "print('----' * 15)\n",
        "print('Top 5 Tempat Wisata Di Semarang')\n",
        "print('----' * 15)\n",
        " \n",
        "recommended_place = place_df[place_df['id'].isin(recommended_place_ids)]\n",
        "for row, i in zip(recommended_place.itertuples(), range(1,8)):\n",
        "    print(i,'.', row.place_name, '\\n    ', row.category, ',', 'Harga Tiket Masuk ', row.price, ',', 'Rating Wisata ', row.rating,'\\n')\n",
        "\n",
        "print('==='*15)"
      ],
      "metadata": {
        "colab": {
          "base_uri": "https://localhost:8080/"
        },
        "id": "kI3WKlMtkJ73",
        "outputId": "0ee83c86-8eca-44c9-bbd5-bf952c16765b"
      },
      "execution_count": null,
      "outputs": [
        {
          "output_type": "stream",
          "name": "stdout",
          "text": [
            "Daftar rekomendasi untuk: User 24\n",
            "============================================= \n",
            "\n",
            "------------------------------------------------------------\n",
            "Tempat dengan rating wisata paling tinggi dari user\n",
            "------------------------------------------------------------\n",
            "Lawang Sewu : Budaya\n",
            "Pantai Marina : Bahari\n",
            "Gua Maria Kerep Ambarawa : Cagar Alam\n",
            "Jembatan Biru Ambarawa : Taman Hiburan\n",
            "\n",
            "------------------------------------------------------------\n",
            "Top 5 Tempat Wisata Di Semarang\n",
            "------------------------------------------------------------\n",
            "1 . Candi Gedong Songo \n",
            "     Budaya , Harga Tiket Masuk  10000 , Rating Wisata  4.5 \n",
            "\n",
            "2 . Monumen Palagan Ambarawa \n",
            "     Budaya , Harga Tiket Masuk  7500 , Rating Wisata  4.4 \n",
            "\n",
            "3 . La Kana Chapel \n",
            "     Taman Hiburan , Harga Tiket Masuk  35000 , Rating Wisata  4.5 \n",
            "\n",
            "4 . Kampoeng Kopi Banaran \n",
            "     Taman Hiburan , Harga Tiket Masuk  200000 , Rating Wisata  4.3 \n",
            "\n",
            "5 . Obyek Wisata Goa Kreo \n",
            "     Cagar Alam , Harga Tiket Masuk  5500 , Rating Wisata  4.3 \n",
            "\n",
            "=============================================\n"
          ]
        }
      ]
    }
  ]
}